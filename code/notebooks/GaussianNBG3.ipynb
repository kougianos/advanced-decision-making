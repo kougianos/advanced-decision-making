{
 "cells": [
  {
   "cell_type": "code",
   "execution_count": 113,
   "metadata": {},
   "outputs": [
    {
     "output_type": "execute_result",
     "data": {
      "text/plain": "  school sex  age address famsize Pstatus     Mjob      Fjob  reason guardian  \\\n0     GP   F   18       U     GT3       A  at_home   teacher  course   mother   \n1     GP   F   17       U     GT3       T  at_home     other  course   father   \n2     GP   F   15       U     LE3       T  at_home     other   other   mother   \n3     GP   F   15       U     GT3       T   health  services    home   mother   \n4     GP   F   16       U     GT3       T    other     other    home   father   \n\n   traveltime  studytime  failures schoolsup famsup paid activities nursery  \\\n0           2          2         0       yes     no   no         no     yes   \n1           1          2         0        no    yes   no         no      no   \n2           1          2         3       yes     no  yes         no     yes   \n3           1          3         0        no    yes  yes        yes     yes   \n4           1          2         0        no    yes  yes         no     yes   \n\n  higher internet romantic  famrel  freetime  health  absences  G1  G2  G3  \\\n0    yes       no       no       4         4       3         6   5   6   6   \n1    yes      yes       no       5         3       3         4   5   5   6   \n2    yes      yes       no       4         2       3        10   7   8  10   \n3    yes      yes      yes       3         2       5         2  15  14  15   \n4    yes       no       no       4         2       5         4   6  10  10   \n\n   Pedu  alc  \n0     4    1  \n1     1    1  \n2     1    2  \n3     3    1  \n4     3    2  ",
      "text/html": "<div>\n<style scoped>\n    .dataframe tbody tr th:only-of-type {\n        vertical-align: middle;\n    }\n\n    .dataframe tbody tr th {\n        vertical-align: top;\n    }\n\n    .dataframe thead th {\n        text-align: right;\n    }\n</style>\n<table border=\"1\" class=\"dataframe\">\n  <thead>\n    <tr style=\"text-align: right;\">\n      <th></th>\n      <th>school</th>\n      <th>sex</th>\n      <th>age</th>\n      <th>address</th>\n      <th>famsize</th>\n      <th>Pstatus</th>\n      <th>Mjob</th>\n      <th>Fjob</th>\n      <th>reason</th>\n      <th>guardian</th>\n      <th>traveltime</th>\n      <th>studytime</th>\n      <th>failures</th>\n      <th>schoolsup</th>\n      <th>famsup</th>\n      <th>paid</th>\n      <th>activities</th>\n      <th>nursery</th>\n      <th>higher</th>\n      <th>internet</th>\n      <th>romantic</th>\n      <th>famrel</th>\n      <th>freetime</th>\n      <th>health</th>\n      <th>absences</th>\n      <th>G1</th>\n      <th>G2</th>\n      <th>G3</th>\n      <th>Pedu</th>\n      <th>alc</th>\n    </tr>\n  </thead>\n  <tbody>\n    <tr>\n      <td>0</td>\n      <td>GP</td>\n      <td>F</td>\n      <td>18</td>\n      <td>U</td>\n      <td>GT3</td>\n      <td>A</td>\n      <td>at_home</td>\n      <td>teacher</td>\n      <td>course</td>\n      <td>mother</td>\n      <td>2</td>\n      <td>2</td>\n      <td>0</td>\n      <td>yes</td>\n      <td>no</td>\n      <td>no</td>\n      <td>no</td>\n      <td>yes</td>\n      <td>yes</td>\n      <td>no</td>\n      <td>no</td>\n      <td>4</td>\n      <td>4</td>\n      <td>3</td>\n      <td>6</td>\n      <td>5</td>\n      <td>6</td>\n      <td>6</td>\n      <td>4</td>\n      <td>1</td>\n    </tr>\n    <tr>\n      <td>1</td>\n      <td>GP</td>\n      <td>F</td>\n      <td>17</td>\n      <td>U</td>\n      <td>GT3</td>\n      <td>T</td>\n      <td>at_home</td>\n      <td>other</td>\n      <td>course</td>\n      <td>father</td>\n      <td>1</td>\n      <td>2</td>\n      <td>0</td>\n      <td>no</td>\n      <td>yes</td>\n      <td>no</td>\n      <td>no</td>\n      <td>no</td>\n      <td>yes</td>\n      <td>yes</td>\n      <td>no</td>\n      <td>5</td>\n      <td>3</td>\n      <td>3</td>\n      <td>4</td>\n      <td>5</td>\n      <td>5</td>\n      <td>6</td>\n      <td>1</td>\n      <td>1</td>\n    </tr>\n    <tr>\n      <td>2</td>\n      <td>GP</td>\n      <td>F</td>\n      <td>15</td>\n      <td>U</td>\n      <td>LE3</td>\n      <td>T</td>\n      <td>at_home</td>\n      <td>other</td>\n      <td>other</td>\n      <td>mother</td>\n      <td>1</td>\n      <td>2</td>\n      <td>3</td>\n      <td>yes</td>\n      <td>no</td>\n      <td>yes</td>\n      <td>no</td>\n      <td>yes</td>\n      <td>yes</td>\n      <td>yes</td>\n      <td>no</td>\n      <td>4</td>\n      <td>2</td>\n      <td>3</td>\n      <td>10</td>\n      <td>7</td>\n      <td>8</td>\n      <td>10</td>\n      <td>1</td>\n      <td>2</td>\n    </tr>\n    <tr>\n      <td>3</td>\n      <td>GP</td>\n      <td>F</td>\n      <td>15</td>\n      <td>U</td>\n      <td>GT3</td>\n      <td>T</td>\n      <td>health</td>\n      <td>services</td>\n      <td>home</td>\n      <td>mother</td>\n      <td>1</td>\n      <td>3</td>\n      <td>0</td>\n      <td>no</td>\n      <td>yes</td>\n      <td>yes</td>\n      <td>yes</td>\n      <td>yes</td>\n      <td>yes</td>\n      <td>yes</td>\n      <td>yes</td>\n      <td>3</td>\n      <td>2</td>\n      <td>5</td>\n      <td>2</td>\n      <td>15</td>\n      <td>14</td>\n      <td>15</td>\n      <td>3</td>\n      <td>1</td>\n    </tr>\n    <tr>\n      <td>4</td>\n      <td>GP</td>\n      <td>F</td>\n      <td>16</td>\n      <td>U</td>\n      <td>GT3</td>\n      <td>T</td>\n      <td>other</td>\n      <td>other</td>\n      <td>home</td>\n      <td>father</td>\n      <td>1</td>\n      <td>2</td>\n      <td>0</td>\n      <td>no</td>\n      <td>yes</td>\n      <td>yes</td>\n      <td>no</td>\n      <td>yes</td>\n      <td>yes</td>\n      <td>no</td>\n      <td>no</td>\n      <td>4</td>\n      <td>2</td>\n      <td>5</td>\n      <td>4</td>\n      <td>6</td>\n      <td>10</td>\n      <td>10</td>\n      <td>3</td>\n      <td>2</td>\n    </tr>\n  </tbody>\n</table>\n</div>"
     },
     "metadata": {},
     "execution_count": 113
    }
   ],
   "source": [
    "import pandas as pd\n",
    "import numpy as np\n",
    "from sklearn.model_selection import train_test_split\n",
    "from sklearn.naive_bayes import GaussianNB\n",
    "\n",
    "pd.set_option('display.max_rows', 500)\n",
    "pd.set_option('display.max_columns', 500)\n",
    "\n",
    "df = pd.read_csv(\"../data/student-merged.csv\")\n",
    "\n",
    "df.head()"
   ]
  },
  {
   "cell_type": "code",
   "execution_count": 114,
   "metadata": {},
   "outputs": [
    {
     "output_type": "execute_result",
     "data": {
      "text/plain": "Index([], dtype='object')"
     },
     "metadata": {},
     "execution_count": 114
    }
   ],
   "source": [
    "df.columns[df.isna().any()]"
   ]
  },
  {
   "cell_type": "code",
   "execution_count": 115,
   "metadata": {
    "tags": [
     "outputPrepend"
    ]
   },
   "outputs": [
    {
     "output_type": "execute_result",
     "data": {
      "text/plain": "  school sex  age address famsize Pstatus Mjob Fjob reason guardian  \\\n0      0   0   18       0       0       0    0    3      2        0   \n1      0   0   17       0       0       1    0    4      2        1   \n2      0   0   15       0       1       1    0    4      3        0   \n3      0   0   15       0       0       1    1    2      0        0   \n4      0   0   16       0       0       1    4    4      0        1   \n\n   traveltime  studytime  failures schoolsup famsup paid activities nursery  \\\n0           2          2         0         1      0    0          0       1   \n1           1          2         0         0      1    0          0       0   \n2           1          2         3         1      0    1          0       1   \n3           1          3         0         0      1    1          1       1   \n4           1          2         0         0      1    1          0       1   \n\n  higher internet romantic  famrel  freetime  health  absences  G1  G2  G3  \\\n0      1        0        0       4         4       3         6   5   6   6   \n1      1        1        0       5         3       3         4   5   5   6   \n2      1        1        0       4         2       3        10   7   8  10   \n3      1        1        1       3         2       5         2  15  14  15   \n4      1        0        0       4         2       5         4   6  10  10   \n\n   Pedu  alc  \n0     4    1  \n1     1    1  \n2     1    2  \n3     3    1  \n4     3    2  ",
      "text/html": "<div>\n<style scoped>\n    .dataframe tbody tr th:only-of-type {\n        vertical-align: middle;\n    }\n\n    .dataframe tbody tr th {\n        vertical-align: top;\n    }\n\n    .dataframe thead th {\n        text-align: right;\n    }\n</style>\n<table border=\"1\" class=\"dataframe\">\n  <thead>\n    <tr style=\"text-align: right;\">\n      <th></th>\n      <th>school</th>\n      <th>sex</th>\n      <th>age</th>\n      <th>address</th>\n      <th>famsize</th>\n      <th>Pstatus</th>\n      <th>Mjob</th>\n      <th>Fjob</th>\n      <th>reason</th>\n      <th>guardian</th>\n      <th>traveltime</th>\n      <th>studytime</th>\n      <th>failures</th>\n      <th>schoolsup</th>\n      <th>famsup</th>\n      <th>paid</th>\n      <th>activities</th>\n      <th>nursery</th>\n      <th>higher</th>\n      <th>internet</th>\n      <th>romantic</th>\n      <th>famrel</th>\n      <th>freetime</th>\n      <th>health</th>\n      <th>absences</th>\n      <th>G1</th>\n      <th>G2</th>\n      <th>G3</th>\n      <th>Pedu</th>\n      <th>alc</th>\n    </tr>\n  </thead>\n  <tbody>\n    <tr>\n      <td>0</td>\n      <td>0</td>\n      <td>0</td>\n      <td>18</td>\n      <td>0</td>\n      <td>0</td>\n      <td>0</td>\n      <td>0</td>\n      <td>3</td>\n      <td>2</td>\n      <td>0</td>\n      <td>2</td>\n      <td>2</td>\n      <td>0</td>\n      <td>1</td>\n      <td>0</td>\n      <td>0</td>\n      <td>0</td>\n      <td>1</td>\n      <td>1</td>\n      <td>0</td>\n      <td>0</td>\n      <td>4</td>\n      <td>4</td>\n      <td>3</td>\n      <td>6</td>\n      <td>5</td>\n      <td>6</td>\n      <td>6</td>\n      <td>4</td>\n      <td>1</td>\n    </tr>\n    <tr>\n      <td>1</td>\n      <td>0</td>\n      <td>0</td>\n      <td>17</td>\n      <td>0</td>\n      <td>0</td>\n      <td>1</td>\n      <td>0</td>\n      <td>4</td>\n      <td>2</td>\n      <td>1</td>\n      <td>1</td>\n      <td>2</td>\n      <td>0</td>\n      <td>0</td>\n      <td>1</td>\n      <td>0</td>\n      <td>0</td>\n      <td>0</td>\n      <td>1</td>\n      <td>1</td>\n      <td>0</td>\n      <td>5</td>\n      <td>3</td>\n      <td>3</td>\n      <td>4</td>\n      <td>5</td>\n      <td>5</td>\n      <td>6</td>\n      <td>1</td>\n      <td>1</td>\n    </tr>\n    <tr>\n      <td>2</td>\n      <td>0</td>\n      <td>0</td>\n      <td>15</td>\n      <td>0</td>\n      <td>1</td>\n      <td>1</td>\n      <td>0</td>\n      <td>4</td>\n      <td>3</td>\n      <td>0</td>\n      <td>1</td>\n      <td>2</td>\n      <td>3</td>\n      <td>1</td>\n      <td>0</td>\n      <td>1</td>\n      <td>0</td>\n      <td>1</td>\n      <td>1</td>\n      <td>1</td>\n      <td>0</td>\n      <td>4</td>\n      <td>2</td>\n      <td>3</td>\n      <td>10</td>\n      <td>7</td>\n      <td>8</td>\n      <td>10</td>\n      <td>1</td>\n      <td>2</td>\n    </tr>\n    <tr>\n      <td>3</td>\n      <td>0</td>\n      <td>0</td>\n      <td>15</td>\n      <td>0</td>\n      <td>0</td>\n      <td>1</td>\n      <td>1</td>\n      <td>2</td>\n      <td>0</td>\n      <td>0</td>\n      <td>1</td>\n      <td>3</td>\n      <td>0</td>\n      <td>0</td>\n      <td>1</td>\n      <td>1</td>\n      <td>1</td>\n      <td>1</td>\n      <td>1</td>\n      <td>1</td>\n      <td>1</td>\n      <td>3</td>\n      <td>2</td>\n      <td>5</td>\n      <td>2</td>\n      <td>15</td>\n      <td>14</td>\n      <td>15</td>\n      <td>3</td>\n      <td>1</td>\n    </tr>\n    <tr>\n      <td>4</td>\n      <td>0</td>\n      <td>0</td>\n      <td>16</td>\n      <td>0</td>\n      <td>0</td>\n      <td>1</td>\n      <td>4</td>\n      <td>4</td>\n      <td>0</td>\n      <td>1</td>\n      <td>1</td>\n      <td>2</td>\n      <td>0</td>\n      <td>0</td>\n      <td>1</td>\n      <td>1</td>\n      <td>0</td>\n      <td>1</td>\n      <td>1</td>\n      <td>0</td>\n      <td>0</td>\n      <td>4</td>\n      <td>2</td>\n      <td>5</td>\n      <td>4</td>\n      <td>6</td>\n      <td>10</td>\n      <td>10</td>\n      <td>3</td>\n      <td>2</td>\n    </tr>\n  </tbody>\n</table>\n</div>"
     },
     "metadata": {},
     "execution_count": 115
    }
   ],
   "source": [
    "# Data preprocessing - convert all classified attributes to numeric\n",
    "for index_label, row_series in df.iterrows():\n",
    "\n",
    "    if row_series['school'] == 'GP':\n",
    "        df.at[index_label , 'school'] = 0\n",
    "    elif row_series['school'] == 'MS':\n",
    "        df.at[index_label , 'school'] = 1\n",
    "\n",
    "    if row_series['sex'] == 'F':\n",
    "        df.at[index_label , 'sex'] = 0\n",
    "    elif row_series['sex'] == 'M':\n",
    "        df.at[index_label , 'sex'] = 1\n",
    "\n",
    "    if row_series['address'] == 'U':\n",
    "        df.at[index_label , 'address'] = 0\n",
    "    elif row_series['address'] == 'R':\n",
    "        df.at[index_label , 'address'] = 1\n",
    "\n",
    "    if row_series['famsize'] == 'GT3':\n",
    "        df.at[index_label , 'famsize'] = 0\n",
    "    elif row_series['famsize'] == 'LE3':\n",
    "        df.at[index_label , 'famsize'] = 1\n",
    "\n",
    "    if row_series['Pstatus'] == 'A':\n",
    "        df.at[index_label , 'Pstatus'] = 0\n",
    "    elif row_series['Pstatus'] == 'T':\n",
    "        df.at[index_label , 'Pstatus'] = 1\n",
    "\n",
    "    if row_series['Mjob'] == 'at_home':\n",
    "        df.at[index_label , 'Mjob'] = 0\n",
    "    elif row_series['Mjob'] == 'health':\n",
    "        df.at[index_label , 'Mjob'] = 1\n",
    "    elif row_series['Mjob'] == 'services':\n",
    "        df.at[index_label , 'Mjob'] = 2\n",
    "    elif row_series['Mjob'] == 'teacher':\n",
    "        df.at[index_label , 'Mjob'] = 3\n",
    "    elif row_series['Mjob'] == 'other':\n",
    "        df.at[index_label , 'Mjob'] = 4\n",
    "\n",
    "    if row_series['Fjob'] == 'at_home':\n",
    "        df.at[index_label , 'Fjob'] = 0\n",
    "    elif row_series['Fjob'] == 'health':\n",
    "        df.at[index_label , 'Fjob'] = 1\n",
    "    elif row_series['Fjob'] == 'services':\n",
    "        df.at[index_label , 'Fjob'] = 2\n",
    "    elif row_series['Fjob'] == 'teacher':\n",
    "        df.at[index_label , 'Fjob'] = 3\n",
    "    elif row_series['Fjob'] == 'other':\n",
    "        df.at[index_label , 'Fjob'] = 4\n",
    "\n",
    "    if row_series['reason'] == 'home':\n",
    "        df.at[index_label , 'reason'] = 0\n",
    "    elif row_series['reason'] == 'reputation':\n",
    "        df.at[index_label , 'reason'] = 1\n",
    "    elif row_series['reason'] == 'course':\n",
    "        df.at[index_label , 'reason'] = 2\n",
    "    elif row_series['reason'] == 'other':\n",
    "        df.at[index_label , 'reason'] = 3\n",
    "\n",
    "    if row_series['guardian'] == 'mother':\n",
    "        df.at[index_label , 'guardian'] = 0\n",
    "    elif row_series['guardian'] == 'father':\n",
    "        df.at[index_label , 'guardian'] = 1\n",
    "    elif row_series['guardian'] == 'other':\n",
    "        df.at[index_label , 'guardian'] = 2\n",
    "\n",
    "    if row_series['schoolsup'] == 'no':\n",
    "        df.at[index_label , 'schoolsup'] = 0\n",
    "    elif row_series['schoolsup'] == 'yes':\n",
    "        df.at[index_label , 'schoolsup'] = 1\n",
    "\n",
    "    if row_series['famsup'] == 'no':\n",
    "        df.at[index_label , 'famsup'] = 0\n",
    "    elif row_series['famsup'] == 'yes':\n",
    "        df.at[index_label , 'famsup'] = 1\n",
    "\n",
    "    if row_series['paid'] == 'no':\n",
    "        df.at[index_label , 'paid'] = 0\n",
    "    elif row_series['paid'] == 'yes':\n",
    "        df.at[index_label , 'paid'] = 1\n",
    "\n",
    "    if row_series['activities'] == 'no':\n",
    "        df.at[index_label , 'activities'] = 0\n",
    "    elif row_series['activities'] == 'yes':\n",
    "        df.at[index_label , 'activities'] = 1\n",
    "\n",
    "    if row_series['nursery'] == 'no':\n",
    "        df.at[index_label , 'nursery'] = 0\n",
    "    elif row_series['nursery'] == 'yes':\n",
    "        df.at[index_label , 'nursery'] = 1\n",
    "\n",
    "    if row_series['higher'] == 'no':\n",
    "        df.at[index_label , 'higher'] = 0\n",
    "    elif row_series['higher'] == 'yes':\n",
    "        df.at[index_label , 'higher'] = 1\n",
    "\n",
    "    if row_series['internet'] == 'no':\n",
    "        df.at[index_label , 'internet'] = 0\n",
    "    elif row_series['internet'] == 'yes':\n",
    "        df.at[index_label , 'internet'] = 1\n",
    "\n",
    "    if row_series['romantic'] == 'no':\n",
    "        df.at[index_label , 'romantic'] = 0\n",
    "    elif row_series['romantic'] == 'yes':\n",
    "        df.at[index_label , 'romantic'] = 1\n",
    "\n",
    "df.head()\n"
   ]
  },
  {
   "cell_type": "code",
   "execution_count": 116,
   "metadata": {},
   "outputs": [
    {
     "output_type": "execute_result",
     "data": {
      "text/plain": "school        int64\nsex           int64\nage           int64\naddress       int64\nfamsize       int64\nPstatus       int64\nMjob          int64\nFjob          int64\nreason        int64\nguardian      int64\ntraveltime    int64\nstudytime     int64\nfailures      int64\nschoolsup     int64\nfamsup        int64\npaid          int64\nactivities    int64\nnursery       int64\nhigher        int64\ninternet      int64\nromantic      int64\nfamrel        int64\nfreetime      int64\nhealth        int64\nabsences      int64\nG1            int64\nG2            int64\nG3            int64\nPedu          int64\nalc           int64\ndtype: object"
     },
     "metadata": {},
     "execution_count": 116
    }
   ],
   "source": [
    "# Convert dataframe to numeric in order to be used with GaussianNB\n",
    "df = df.apply(pd.to_numeric)\n",
    "df.dtypes"
   ]
  },
  {
   "cell_type": "code",
   "execution_count": 117,
   "metadata": {},
   "outputs": [],
   "source": [
    "inputs = df.drop('G3', axis='columns')\n"
   ]
  },
  {
   "cell_type": "code",
   "execution_count": 118,
   "metadata": {},
   "outputs": [],
   "source": [
    "target = df.G3"
   ]
  },
  {
   "cell_type": "code",
   "execution_count": 119,
   "metadata": {},
   "outputs": [],
   "source": [
    "X_train, X_test, y_train, y_test = train_test_split(inputs,target,test_size=0.2)"
   ]
  },
  {
   "cell_type": "code",
   "execution_count": 120,
   "metadata": {},
   "outputs": [
    {
     "output_type": "execute_result",
     "data": {
      "text/plain": "672"
     },
     "metadata": {},
     "execution_count": 120
    }
   ],
   "source": [
    "len(inputs)"
   ]
  },
  {
   "cell_type": "code",
   "execution_count": 121,
   "metadata": {},
   "outputs": [
    {
     "output_type": "execute_result",
     "data": {
      "text/plain": "135"
     },
     "metadata": {},
     "execution_count": 121
    }
   ],
   "source": [
    "len(X_test)"
   ]
  },
  {
   "cell_type": "code",
   "execution_count": 122,
   "metadata": {},
   "outputs": [
    {
     "output_type": "execute_result",
     "data": {
      "text/plain": "537"
     },
     "metadata": {},
     "execution_count": 122
    }
   ],
   "source": [
    "len(X_train)"
   ]
  },
  {
   "cell_type": "code",
   "execution_count": 123,
   "metadata": {},
   "outputs": [],
   "source": [
    "model = GaussianNB()"
   ]
  },
  {
   "cell_type": "code",
   "execution_count": 124,
   "metadata": {},
   "outputs": [
    {
     "output_type": "execute_result",
     "data": {
      "text/plain": "GaussianNB(priors=None, var_smoothing=1e-09)"
     },
     "metadata": {},
     "execution_count": 124
    }
   ],
   "source": [
    "model.fit(X_train, y_train)"
   ]
  },
  {
   "cell_type": "code",
   "execution_count": 125,
   "metadata": {},
   "outputs": [
    {
     "output_type": "execute_result",
     "data": {
      "text/plain": "0.21481481481481482"
     },
     "metadata": {},
     "execution_count": 125
    }
   ],
   "source": [
    "model.score(X_test,y_test)"
   ]
  },
  {
   "cell_type": "code",
   "execution_count": 126,
   "metadata": {},
   "outputs": [
    {
     "output_type": "execute_result",
     "data": {
      "text/plain": "     school  sex  age  address  famsize  Pstatus  Mjob  Fjob  reason  \\\n307       0    1   19        0        0        1     3     2       1   \n63        0    0   16        0        0        1     3     1       0   \n7         0    0   17        0        0        0     4     3       0   \n509       1    1   15        0        1        1     0     0       1   \n230       0    0   17        0        1        1     1     4       1   \n319       0    0   18        0        0        1     3     4       2   \n476       0    0   18        0        1        1     3     4       2   \n635       1    0   17        0        0        1     4     0       2   \n26        0    1   15        0        0        1     4     4       0   \n625       1    1   17        0        0        1     4     4       2   \n624       1    0   16        1        1        1     4     2       2   \n195       0    0   17        0        1        1     2     2       2   \n73        0    1   16        0        0        1     4     4       1   \n585       1    1   18        0        1        1     0     1       0   \n517       1    0   15        0        0        1     0     4       0   \n\n     guardian  traveltime  studytime  failures  schoolsup  famsup  paid  \\\n307         2           2          1         1          0       1     1   \n63          0           1          3         0          1       1     1   \n7           0           2          2         0          1       1     0   \n509         1           1          2         0          0       1     0   \n230         1           1          2         0          0       0     0   \n319         0           1          2         0          0       1     1   \n476         0           1          2         0          0       1     0   \n635         0           1          1         0          0       1     0   \n26          0           1          1         0          0       1     1   \n625         0           1          1         1          0       0     0   \n624         1           1          2         0          0       0     0   \n195         1           1          2         0          0       0     0   \n73          0           1          1         0          0       0     0   \n585         0           1          4         0          0       1     0   \n517         0           1          2         0          1       1     0   \n\n     activities  nursery  higher  internet  romantic  famrel  freetime  \\\n307           0        1       1         1         1       4         4   \n63            1        1       1         1         0       3         4   \n7             0        1       1         0         0       4         2   \n509           1        1       1         1         0       5         3   \n230           1        1       1         1         1       3         2   \n319           0        1       1         1         0       4         4   \n476           1        1       1         1         0       4         2   \n635           1        1       1         0         0       4         2   \n26            0        1       1         1         0       4         2   \n625           1        1       1         0         1       1         2   \n624           1        1       1         0         1       5         4   \n195           1        1       1         1         1       4         2   \n73            1        1       1         0         0       5         2   \n585           1        1       0         1         1       5         5   \n517           0        0       1         1         0       4         3   \n\n     health  absences  G1  G2  Pedu  alc  \n307       4        38   8   9     4    1  \n63        4         2  10   9     4    3  \n7         1         6   6   5     4    1  \n509       5         0  11  11     3    1  \n230       3        14  13  13     4    2  \n319       5         2  11  11     4    3  \n476       3         0  14  17     3    1  \n635       5         9   7   9     1    2  \n26        5         2  12  12     2    2  \n625       5         0   7   0     2    2  \n624       1         0  11  13     2    1  \n195       5         0  14  15     3    1  \n73        5         2  12  12     2    2  \n585       5         2   5   6     4    5  \n517       2         0   9  10     2    3  ",
      "text/html": "<div>\n<style scoped>\n    .dataframe tbody tr th:only-of-type {\n        vertical-align: middle;\n    }\n\n    .dataframe tbody tr th {\n        vertical-align: top;\n    }\n\n    .dataframe thead th {\n        text-align: right;\n    }\n</style>\n<table border=\"1\" class=\"dataframe\">\n  <thead>\n    <tr style=\"text-align: right;\">\n      <th></th>\n      <th>school</th>\n      <th>sex</th>\n      <th>age</th>\n      <th>address</th>\n      <th>famsize</th>\n      <th>Pstatus</th>\n      <th>Mjob</th>\n      <th>Fjob</th>\n      <th>reason</th>\n      <th>guardian</th>\n      <th>traveltime</th>\n      <th>studytime</th>\n      <th>failures</th>\n      <th>schoolsup</th>\n      <th>famsup</th>\n      <th>paid</th>\n      <th>activities</th>\n      <th>nursery</th>\n      <th>higher</th>\n      <th>internet</th>\n      <th>romantic</th>\n      <th>famrel</th>\n      <th>freetime</th>\n      <th>health</th>\n      <th>absences</th>\n      <th>G1</th>\n      <th>G2</th>\n      <th>Pedu</th>\n      <th>alc</th>\n    </tr>\n  </thead>\n  <tbody>\n    <tr>\n      <td>307</td>\n      <td>0</td>\n      <td>1</td>\n      <td>19</td>\n      <td>0</td>\n      <td>0</td>\n      <td>1</td>\n      <td>3</td>\n      <td>2</td>\n      <td>1</td>\n      <td>2</td>\n      <td>2</td>\n      <td>1</td>\n      <td>1</td>\n      <td>0</td>\n      <td>1</td>\n      <td>1</td>\n      <td>0</td>\n      <td>1</td>\n      <td>1</td>\n      <td>1</td>\n      <td>1</td>\n      <td>4</td>\n      <td>4</td>\n      <td>4</td>\n      <td>38</td>\n      <td>8</td>\n      <td>9</td>\n      <td>4</td>\n      <td>1</td>\n    </tr>\n    <tr>\n      <td>63</td>\n      <td>0</td>\n      <td>0</td>\n      <td>16</td>\n      <td>0</td>\n      <td>0</td>\n      <td>1</td>\n      <td>3</td>\n      <td>1</td>\n      <td>0</td>\n      <td>0</td>\n      <td>1</td>\n      <td>3</td>\n      <td>0</td>\n      <td>1</td>\n      <td>1</td>\n      <td>1</td>\n      <td>1</td>\n      <td>1</td>\n      <td>1</td>\n      <td>1</td>\n      <td>0</td>\n      <td>3</td>\n      <td>4</td>\n      <td>4</td>\n      <td>2</td>\n      <td>10</td>\n      <td>9</td>\n      <td>4</td>\n      <td>3</td>\n    </tr>\n    <tr>\n      <td>7</td>\n      <td>0</td>\n      <td>0</td>\n      <td>17</td>\n      <td>0</td>\n      <td>0</td>\n      <td>0</td>\n      <td>4</td>\n      <td>3</td>\n      <td>0</td>\n      <td>0</td>\n      <td>2</td>\n      <td>2</td>\n      <td>0</td>\n      <td>1</td>\n      <td>1</td>\n      <td>0</td>\n      <td>0</td>\n      <td>1</td>\n      <td>1</td>\n      <td>0</td>\n      <td>0</td>\n      <td>4</td>\n      <td>2</td>\n      <td>1</td>\n      <td>6</td>\n      <td>6</td>\n      <td>5</td>\n      <td>4</td>\n      <td>1</td>\n    </tr>\n    <tr>\n      <td>509</td>\n      <td>1</td>\n      <td>1</td>\n      <td>15</td>\n      <td>0</td>\n      <td>1</td>\n      <td>1</td>\n      <td>0</td>\n      <td>0</td>\n      <td>1</td>\n      <td>1</td>\n      <td>1</td>\n      <td>2</td>\n      <td>0</td>\n      <td>0</td>\n      <td>1</td>\n      <td>0</td>\n      <td>1</td>\n      <td>1</td>\n      <td>1</td>\n      <td>1</td>\n      <td>0</td>\n      <td>5</td>\n      <td>3</td>\n      <td>5</td>\n      <td>0</td>\n      <td>11</td>\n      <td>11</td>\n      <td>3</td>\n      <td>1</td>\n    </tr>\n    <tr>\n      <td>230</td>\n      <td>0</td>\n      <td>0</td>\n      <td>17</td>\n      <td>0</td>\n      <td>1</td>\n      <td>1</td>\n      <td>1</td>\n      <td>4</td>\n      <td>1</td>\n      <td>1</td>\n      <td>1</td>\n      <td>2</td>\n      <td>0</td>\n      <td>0</td>\n      <td>0</td>\n      <td>0</td>\n      <td>1</td>\n      <td>1</td>\n      <td>1</td>\n      <td>1</td>\n      <td>1</td>\n      <td>3</td>\n      <td>2</td>\n      <td>3</td>\n      <td>14</td>\n      <td>13</td>\n      <td>13</td>\n      <td>4</td>\n      <td>2</td>\n    </tr>\n    <tr>\n      <td>319</td>\n      <td>0</td>\n      <td>0</td>\n      <td>18</td>\n      <td>0</td>\n      <td>0</td>\n      <td>1</td>\n      <td>3</td>\n      <td>4</td>\n      <td>2</td>\n      <td>0</td>\n      <td>1</td>\n      <td>2</td>\n      <td>0</td>\n      <td>0</td>\n      <td>1</td>\n      <td>1</td>\n      <td>0</td>\n      <td>1</td>\n      <td>1</td>\n      <td>1</td>\n      <td>0</td>\n      <td>4</td>\n      <td>4</td>\n      <td>5</td>\n      <td>2</td>\n      <td>11</td>\n      <td>11</td>\n      <td>4</td>\n      <td>3</td>\n    </tr>\n    <tr>\n      <td>476</td>\n      <td>0</td>\n      <td>0</td>\n      <td>18</td>\n      <td>0</td>\n      <td>1</td>\n      <td>1</td>\n      <td>3</td>\n      <td>4</td>\n      <td>2</td>\n      <td>0</td>\n      <td>1</td>\n      <td>2</td>\n      <td>0</td>\n      <td>0</td>\n      <td>1</td>\n      <td>0</td>\n      <td>1</td>\n      <td>1</td>\n      <td>1</td>\n      <td>1</td>\n      <td>0</td>\n      <td>4</td>\n      <td>2</td>\n      <td>3</td>\n      <td>0</td>\n      <td>14</td>\n      <td>17</td>\n      <td>3</td>\n      <td>1</td>\n    </tr>\n    <tr>\n      <td>635</td>\n      <td>1</td>\n      <td>0</td>\n      <td>17</td>\n      <td>0</td>\n      <td>0</td>\n      <td>1</td>\n      <td>4</td>\n      <td>0</td>\n      <td>2</td>\n      <td>0</td>\n      <td>1</td>\n      <td>1</td>\n      <td>0</td>\n      <td>0</td>\n      <td>1</td>\n      <td>0</td>\n      <td>1</td>\n      <td>1</td>\n      <td>1</td>\n      <td>0</td>\n      <td>0</td>\n      <td>4</td>\n      <td>2</td>\n      <td>5</td>\n      <td>9</td>\n      <td>7</td>\n      <td>9</td>\n      <td>1</td>\n      <td>2</td>\n    </tr>\n    <tr>\n      <td>26</td>\n      <td>0</td>\n      <td>1</td>\n      <td>15</td>\n      <td>0</td>\n      <td>0</td>\n      <td>1</td>\n      <td>4</td>\n      <td>4</td>\n      <td>0</td>\n      <td>0</td>\n      <td>1</td>\n      <td>1</td>\n      <td>0</td>\n      <td>0</td>\n      <td>1</td>\n      <td>1</td>\n      <td>0</td>\n      <td>1</td>\n      <td>1</td>\n      <td>1</td>\n      <td>0</td>\n      <td>4</td>\n      <td>2</td>\n      <td>5</td>\n      <td>2</td>\n      <td>12</td>\n      <td>12</td>\n      <td>2</td>\n      <td>2</td>\n    </tr>\n    <tr>\n      <td>625</td>\n      <td>1</td>\n      <td>1</td>\n      <td>17</td>\n      <td>0</td>\n      <td>0</td>\n      <td>1</td>\n      <td>4</td>\n      <td>4</td>\n      <td>2</td>\n      <td>0</td>\n      <td>1</td>\n      <td>1</td>\n      <td>1</td>\n      <td>0</td>\n      <td>0</td>\n      <td>0</td>\n      <td>1</td>\n      <td>1</td>\n      <td>1</td>\n      <td>0</td>\n      <td>1</td>\n      <td>1</td>\n      <td>2</td>\n      <td>5</td>\n      <td>0</td>\n      <td>7</td>\n      <td>0</td>\n      <td>2</td>\n      <td>2</td>\n    </tr>\n    <tr>\n      <td>624</td>\n      <td>1</td>\n      <td>0</td>\n      <td>16</td>\n      <td>1</td>\n      <td>1</td>\n      <td>1</td>\n      <td>4</td>\n      <td>2</td>\n      <td>2</td>\n      <td>1</td>\n      <td>1</td>\n      <td>2</td>\n      <td>0</td>\n      <td>0</td>\n      <td>0</td>\n      <td>0</td>\n      <td>1</td>\n      <td>1</td>\n      <td>1</td>\n      <td>0</td>\n      <td>1</td>\n      <td>5</td>\n      <td>4</td>\n      <td>1</td>\n      <td>0</td>\n      <td>11</td>\n      <td>13</td>\n      <td>2</td>\n      <td>1</td>\n    </tr>\n    <tr>\n      <td>195</td>\n      <td>0</td>\n      <td>0</td>\n      <td>17</td>\n      <td>0</td>\n      <td>1</td>\n      <td>1</td>\n      <td>2</td>\n      <td>2</td>\n      <td>2</td>\n      <td>1</td>\n      <td>1</td>\n      <td>2</td>\n      <td>0</td>\n      <td>0</td>\n      <td>0</td>\n      <td>0</td>\n      <td>1</td>\n      <td>1</td>\n      <td>1</td>\n      <td>1</td>\n      <td>1</td>\n      <td>4</td>\n      <td>2</td>\n      <td>5</td>\n      <td>0</td>\n      <td>14</td>\n      <td>15</td>\n      <td>3</td>\n      <td>1</td>\n    </tr>\n    <tr>\n      <td>73</td>\n      <td>0</td>\n      <td>1</td>\n      <td>16</td>\n      <td>0</td>\n      <td>0</td>\n      <td>1</td>\n      <td>4</td>\n      <td>4</td>\n      <td>1</td>\n      <td>0</td>\n      <td>1</td>\n      <td>1</td>\n      <td>0</td>\n      <td>0</td>\n      <td>0</td>\n      <td>0</td>\n      <td>1</td>\n      <td>1</td>\n      <td>1</td>\n      <td>0</td>\n      <td>0</td>\n      <td>5</td>\n      <td>2</td>\n      <td>5</td>\n      <td>2</td>\n      <td>12</td>\n      <td>12</td>\n      <td>2</td>\n      <td>2</td>\n    </tr>\n    <tr>\n      <td>585</td>\n      <td>1</td>\n      <td>1</td>\n      <td>18</td>\n      <td>0</td>\n      <td>1</td>\n      <td>1</td>\n      <td>0</td>\n      <td>1</td>\n      <td>0</td>\n      <td>0</td>\n      <td>1</td>\n      <td>4</td>\n      <td>0</td>\n      <td>0</td>\n      <td>1</td>\n      <td>0</td>\n      <td>1</td>\n      <td>1</td>\n      <td>0</td>\n      <td>1</td>\n      <td>1</td>\n      <td>5</td>\n      <td>5</td>\n      <td>5</td>\n      <td>2</td>\n      <td>5</td>\n      <td>6</td>\n      <td>4</td>\n      <td>5</td>\n    </tr>\n    <tr>\n      <td>517</td>\n      <td>1</td>\n      <td>0</td>\n      <td>15</td>\n      <td>0</td>\n      <td>0</td>\n      <td>1</td>\n      <td>0</td>\n      <td>4</td>\n      <td>0</td>\n      <td>0</td>\n      <td>1</td>\n      <td>2</td>\n      <td>0</td>\n      <td>1</td>\n      <td>1</td>\n      <td>0</td>\n      <td>0</td>\n      <td>0</td>\n      <td>1</td>\n      <td>1</td>\n      <td>0</td>\n      <td>4</td>\n      <td>3</td>\n      <td>2</td>\n      <td>0</td>\n      <td>9</td>\n      <td>10</td>\n      <td>2</td>\n      <td>3</td>\n    </tr>\n  </tbody>\n</table>\n</div>"
     },
     "metadata": {},
     "execution_count": 126
    }
   ],
   "source": [
    "X_test[0:15]"
   ]
  },
  {
   "cell_type": "code",
   "execution_count": 129,
   "metadata": {},
   "outputs": [
    {
     "output_type": "execute_result",
     "data": {
      "text/plain": "307     8\n63      9\n7       6\n509    11\n230    14\n319    11\n476    17\n635    10\n26     11\n625     0\n624    12\n195    15\n73     14\n585     6\n517     9\n518    15\n399    11\n637    10\n212    14\n108    13\n201    10\n407    10\n532    12\n200    16\n514    11\n395    13\n286    19\n24      8\n343     0\n192     8\nName: G3, dtype: int64"
     },
     "metadata": {},
     "execution_count": 129
    }
   ],
   "source": [
    "y_test[0:30]"
   ]
  },
  {
   "cell_type": "code",
   "execution_count": 130,
   "metadata": {},
   "outputs": [
    {
     "output_type": "execute_result",
     "data": {
      "text/plain": "array([ 9,  6,  6,  0, 16, 12, 19,  6, 16,  0, 16, 16, 16,  8, 11, 16, 13,\n       11, 13, 16,  6,  0, 16, 17,  0, 16, 17,  6,  0,  5], dtype=int64)"
     },
     "metadata": {},
     "execution_count": 130
    }
   ],
   "source": [
    "model.predict(X_test[:30])"
   ]
  },
  {
   "cell_type": "code",
   "execution_count": null,
   "metadata": {},
   "outputs": [],
   "source": []
  }
 ],
 "metadata": {
  "language_info": {
   "codemirror_mode": {
    "name": "ipython",
    "version": 3
   },
   "file_extension": ".py",
   "mimetype": "text/x-python",
   "name": "python",
   "nbconvert_exporter": "python",
   "pygments_lexer": "ipython3",
   "version": "3.7.4-final"
  },
  "orig_nbformat": 2,
  "kernelspec": {
   "name": "python3",
   "display_name": "Python 3"
  }
 },
 "nbformat": 4,
 "nbformat_minor": 2
}