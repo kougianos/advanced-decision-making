{
 "cells": [
  {
   "cell_type": "code",
   "execution_count": 17,
   "metadata": {},
   "outputs": [
    {
     "output_type": "execute_result",
     "data": {
      "text/plain": "  school sex  age address famsize Pstatus     Mjob      Fjob  reason guardian  \\\n0     GP   F   18       U     GT3       A  at_home   teacher  course   mother   \n1     GP   F   17       U     GT3       T  at_home     other  course   father   \n2     GP   F   15       U     LE3       T  at_home     other   other   mother   \n3     GP   F   15       U     GT3       T   health  services    home   mother   \n4     GP   F   16       U     GT3       T    other     other    home   father   \n\n   traveltime  studytime  failures schoolsup famsup paid activities nursery  \\\n0           2          2         0       yes     no   no         no     yes   \n1           1          2         0        no    yes   no         no      no   \n2           1          2         3       yes     no  yes         no     yes   \n3           1          3         0        no    yes  yes        yes     yes   \n4           1          2         0        no    yes  yes         no     yes   \n\n  higher internet romantic  famrel  freetime  health  absences  G1  G2  G3  \\\n0    yes       no       no       4         4       3         6   5   6   6   \n1    yes      yes       no       5         3       3         4   5   5   6   \n2    yes      yes       no       4         2       3        10   7   8  10   \n3    yes      yes      yes       3         2       5         2  15  14  15   \n4    yes       no       no       4         2       5         4   6  10  10   \n\n   Pedu  alc  \n0     4    1  \n1     1    1  \n2     1    2  \n3     3    1  \n4     3    2  ",
      "text/html": "<div>\n<style scoped>\n    .dataframe tbody tr th:only-of-type {\n        vertical-align: middle;\n    }\n\n    .dataframe tbody tr th {\n        vertical-align: top;\n    }\n\n    .dataframe thead th {\n        text-align: right;\n    }\n</style>\n<table border=\"1\" class=\"dataframe\">\n  <thead>\n    <tr style=\"text-align: right;\">\n      <th></th>\n      <th>school</th>\n      <th>sex</th>\n      <th>age</th>\n      <th>address</th>\n      <th>famsize</th>\n      <th>Pstatus</th>\n      <th>Mjob</th>\n      <th>Fjob</th>\n      <th>reason</th>\n      <th>guardian</th>\n      <th>traveltime</th>\n      <th>studytime</th>\n      <th>failures</th>\n      <th>schoolsup</th>\n      <th>famsup</th>\n      <th>paid</th>\n      <th>activities</th>\n      <th>nursery</th>\n      <th>higher</th>\n      <th>internet</th>\n      <th>romantic</th>\n      <th>famrel</th>\n      <th>freetime</th>\n      <th>health</th>\n      <th>absences</th>\n      <th>G1</th>\n      <th>G2</th>\n      <th>G3</th>\n      <th>Pedu</th>\n      <th>alc</th>\n    </tr>\n  </thead>\n  <tbody>\n    <tr>\n      <td>0</td>\n      <td>GP</td>\n      <td>F</td>\n      <td>18</td>\n      <td>U</td>\n      <td>GT3</td>\n      <td>A</td>\n      <td>at_home</td>\n      <td>teacher</td>\n      <td>course</td>\n      <td>mother</td>\n      <td>2</td>\n      <td>2</td>\n      <td>0</td>\n      <td>yes</td>\n      <td>no</td>\n      <td>no</td>\n      <td>no</td>\n      <td>yes</td>\n      <td>yes</td>\n      <td>no</td>\n      <td>no</td>\n      <td>4</td>\n      <td>4</td>\n      <td>3</td>\n      <td>6</td>\n      <td>5</td>\n      <td>6</td>\n      <td>6</td>\n      <td>4</td>\n      <td>1</td>\n    </tr>\n    <tr>\n      <td>1</td>\n      <td>GP</td>\n      <td>F</td>\n      <td>17</td>\n      <td>U</td>\n      <td>GT3</td>\n      <td>T</td>\n      <td>at_home</td>\n      <td>other</td>\n      <td>course</td>\n      <td>father</td>\n      <td>1</td>\n      <td>2</td>\n      <td>0</td>\n      <td>no</td>\n      <td>yes</td>\n      <td>no</td>\n      <td>no</td>\n      <td>no</td>\n      <td>yes</td>\n      <td>yes</td>\n      <td>no</td>\n      <td>5</td>\n      <td>3</td>\n      <td>3</td>\n      <td>4</td>\n      <td>5</td>\n      <td>5</td>\n      <td>6</td>\n      <td>1</td>\n      <td>1</td>\n    </tr>\n    <tr>\n      <td>2</td>\n      <td>GP</td>\n      <td>F</td>\n      <td>15</td>\n      <td>U</td>\n      <td>LE3</td>\n      <td>T</td>\n      <td>at_home</td>\n      <td>other</td>\n      <td>other</td>\n      <td>mother</td>\n      <td>1</td>\n      <td>2</td>\n      <td>3</td>\n      <td>yes</td>\n      <td>no</td>\n      <td>yes</td>\n      <td>no</td>\n      <td>yes</td>\n      <td>yes</td>\n      <td>yes</td>\n      <td>no</td>\n      <td>4</td>\n      <td>2</td>\n      <td>3</td>\n      <td>10</td>\n      <td>7</td>\n      <td>8</td>\n      <td>10</td>\n      <td>1</td>\n      <td>2</td>\n    </tr>\n    <tr>\n      <td>3</td>\n      <td>GP</td>\n      <td>F</td>\n      <td>15</td>\n      <td>U</td>\n      <td>GT3</td>\n      <td>T</td>\n      <td>health</td>\n      <td>services</td>\n      <td>home</td>\n      <td>mother</td>\n      <td>1</td>\n      <td>3</td>\n      <td>0</td>\n      <td>no</td>\n      <td>yes</td>\n      <td>yes</td>\n      <td>yes</td>\n      <td>yes</td>\n      <td>yes</td>\n      <td>yes</td>\n      <td>yes</td>\n      <td>3</td>\n      <td>2</td>\n      <td>5</td>\n      <td>2</td>\n      <td>15</td>\n      <td>14</td>\n      <td>15</td>\n      <td>3</td>\n      <td>1</td>\n    </tr>\n    <tr>\n      <td>4</td>\n      <td>GP</td>\n      <td>F</td>\n      <td>16</td>\n      <td>U</td>\n      <td>GT3</td>\n      <td>T</td>\n      <td>other</td>\n      <td>other</td>\n      <td>home</td>\n      <td>father</td>\n      <td>1</td>\n      <td>2</td>\n      <td>0</td>\n      <td>no</td>\n      <td>yes</td>\n      <td>yes</td>\n      <td>no</td>\n      <td>yes</td>\n      <td>yes</td>\n      <td>no</td>\n      <td>no</td>\n      <td>4</td>\n      <td>2</td>\n      <td>5</td>\n      <td>4</td>\n      <td>6</td>\n      <td>10</td>\n      <td>10</td>\n      <td>3</td>\n      <td>2</td>\n    </tr>\n  </tbody>\n</table>\n</div>"
     },
     "metadata": {},
     "execution_count": 17
    }
   ],
   "source": [
    "import pandas as pd\n",
    "import numpy as np\n",
    "from sklearn.model_selection import train_test_split\n",
    "from sklearn.naive_bayes import GaussianNB\n",
    "\n",
    "pd.set_option('display.max_rows', 500)\n",
    "pd.set_option('display.max_columns', 500)\n",
    "\n",
    "df = pd.read_csv(\"../data/student-merged.csv\")\n",
    "\n",
    "df.head()"
   ]
  },
  {
   "cell_type": "code",
   "execution_count": 18,
   "metadata": {},
   "outputs": [
    {
     "output_type": "execute_result",
     "data": {
      "text/plain": "Index([], dtype='object')"
     },
     "metadata": {},
     "execution_count": 18
    }
   ],
   "source": [
    "df.columns[df.isna().any()]"
   ]
  },
  {
   "cell_type": "code",
   "execution_count": 19,
   "metadata": {
    "tags": [
     "outputPrepend"
    ]
   },
   "outputs": [
    {
     "output_type": "execute_result",
     "data": {
      "text/plain": "  school sex  age address famsize Pstatus Mjob Fjob reason guardian  \\\n0      0   0   18       0       0       0    0    3      2        0   \n1      0   0   17       0       0       1    0    4      2        1   \n2      0   0   15       0       1       1    0    4      3        0   \n3      0   0   15       0       0       1    1    2      0        0   \n4      0   0   16       0       0       1    4    4      0        1   \n\n   traveltime  studytime  failures schoolsup famsup paid activities nursery  \\\n0           2          2         0         1      0    0          0       1   \n1           1          2         0         0      1    0          0       0   \n2           1          2         3         1      0    1          0       1   \n3           1          3         0         0      1    1          1       1   \n4           1          2         0         0      1    1          0       1   \n\n  higher internet romantic  famrel  freetime  health  absences  G1  G2  G3  \\\n0      1        0        0       4         4       3         6   5   6   6   \n1      1        1        0       5         3       3         4   5   5   6   \n2      1        1        0       4         2       3        10   7   8  10   \n3      1        1        1       3         2       5         2  15  14  15   \n4      1        0        0       4         2       5         4   6  10  10   \n\n   Pedu  alc  \n0     4    1  \n1     1    1  \n2     1    2  \n3     3    1  \n4     3    2  ",
      "text/html": "<div>\n<style scoped>\n    .dataframe tbody tr th:only-of-type {\n        vertical-align: middle;\n    }\n\n    .dataframe tbody tr th {\n        vertical-align: top;\n    }\n\n    .dataframe thead th {\n        text-align: right;\n    }\n</style>\n<table border=\"1\" class=\"dataframe\">\n  <thead>\n    <tr style=\"text-align: right;\">\n      <th></th>\n      <th>school</th>\n      <th>sex</th>\n      <th>age</th>\n      <th>address</th>\n      <th>famsize</th>\n      <th>Pstatus</th>\n      <th>Mjob</th>\n      <th>Fjob</th>\n      <th>reason</th>\n      <th>guardian</th>\n      <th>traveltime</th>\n      <th>studytime</th>\n      <th>failures</th>\n      <th>schoolsup</th>\n      <th>famsup</th>\n      <th>paid</th>\n      <th>activities</th>\n      <th>nursery</th>\n      <th>higher</th>\n      <th>internet</th>\n      <th>romantic</th>\n      <th>famrel</th>\n      <th>freetime</th>\n      <th>health</th>\n      <th>absences</th>\n      <th>G1</th>\n      <th>G2</th>\n      <th>G3</th>\n      <th>Pedu</th>\n      <th>alc</th>\n    </tr>\n  </thead>\n  <tbody>\n    <tr>\n      <td>0</td>\n      <td>0</td>\n      <td>0</td>\n      <td>18</td>\n      <td>0</td>\n      <td>0</td>\n      <td>0</td>\n      <td>0</td>\n      <td>3</td>\n      <td>2</td>\n      <td>0</td>\n      <td>2</td>\n      <td>2</td>\n      <td>0</td>\n      <td>1</td>\n      <td>0</td>\n      <td>0</td>\n      <td>0</td>\n      <td>1</td>\n      <td>1</td>\n      <td>0</td>\n      <td>0</td>\n      <td>4</td>\n      <td>4</td>\n      <td>3</td>\n      <td>6</td>\n      <td>5</td>\n      <td>6</td>\n      <td>6</td>\n      <td>4</td>\n      <td>1</td>\n    </tr>\n    <tr>\n      <td>1</td>\n      <td>0</td>\n      <td>0</td>\n      <td>17</td>\n      <td>0</td>\n      <td>0</td>\n      <td>1</td>\n      <td>0</td>\n      <td>4</td>\n      <td>2</td>\n      <td>1</td>\n      <td>1</td>\n      <td>2</td>\n      <td>0</td>\n      <td>0</td>\n      <td>1</td>\n      <td>0</td>\n      <td>0</td>\n      <td>0</td>\n      <td>1</td>\n      <td>1</td>\n      <td>0</td>\n      <td>5</td>\n      <td>3</td>\n      <td>3</td>\n      <td>4</td>\n      <td>5</td>\n      <td>5</td>\n      <td>6</td>\n      <td>1</td>\n      <td>1</td>\n    </tr>\n    <tr>\n      <td>2</td>\n      <td>0</td>\n      <td>0</td>\n      <td>15</td>\n      <td>0</td>\n      <td>1</td>\n      <td>1</td>\n      <td>0</td>\n      <td>4</td>\n      <td>3</td>\n      <td>0</td>\n      <td>1</td>\n      <td>2</td>\n      <td>3</td>\n      <td>1</td>\n      <td>0</td>\n      <td>1</td>\n      <td>0</td>\n      <td>1</td>\n      <td>1</td>\n      <td>1</td>\n      <td>0</td>\n      <td>4</td>\n      <td>2</td>\n      <td>3</td>\n      <td>10</td>\n      <td>7</td>\n      <td>8</td>\n      <td>10</td>\n      <td>1</td>\n      <td>2</td>\n    </tr>\n    <tr>\n      <td>3</td>\n      <td>0</td>\n      <td>0</td>\n      <td>15</td>\n      <td>0</td>\n      <td>0</td>\n      <td>1</td>\n      <td>1</td>\n      <td>2</td>\n      <td>0</td>\n      <td>0</td>\n      <td>1</td>\n      <td>3</td>\n      <td>0</td>\n      <td>0</td>\n      <td>1</td>\n      <td>1</td>\n      <td>1</td>\n      <td>1</td>\n      <td>1</td>\n      <td>1</td>\n      <td>1</td>\n      <td>3</td>\n      <td>2</td>\n      <td>5</td>\n      <td>2</td>\n      <td>15</td>\n      <td>14</td>\n      <td>15</td>\n      <td>3</td>\n      <td>1</td>\n    </tr>\n    <tr>\n      <td>4</td>\n      <td>0</td>\n      <td>0</td>\n      <td>16</td>\n      <td>0</td>\n      <td>0</td>\n      <td>1</td>\n      <td>4</td>\n      <td>4</td>\n      <td>0</td>\n      <td>1</td>\n      <td>1</td>\n      <td>2</td>\n      <td>0</td>\n      <td>0</td>\n      <td>1</td>\n      <td>1</td>\n      <td>0</td>\n      <td>1</td>\n      <td>1</td>\n      <td>0</td>\n      <td>0</td>\n      <td>4</td>\n      <td>2</td>\n      <td>5</td>\n      <td>4</td>\n      <td>6</td>\n      <td>10</td>\n      <td>10</td>\n      <td>3</td>\n      <td>2</td>\n    </tr>\n  </tbody>\n</table>\n</div>"
     },
     "metadata": {},
     "execution_count": 19
    }
   ],
   "source": [
    "# Data preprocessing - convert all classified attributes to numeric\n",
    "for index_label, row_series in df.iterrows():\n",
    "\n",
    "    if row_series['school'] == 'GP':\n",
    "        df.at[index_label , 'school'] = 0\n",
    "    elif row_series['school'] == 'MS':\n",
    "        df.at[index_label , 'school'] = 1\n",
    "\n",
    "    if row_series['sex'] == 'F':\n",
    "        df.at[index_label , 'sex'] = 0\n",
    "    elif row_series['sex'] == 'M':\n",
    "        df.at[index_label , 'sex'] = 1\n",
    "\n",
    "    if row_series['address'] == 'U':\n",
    "        df.at[index_label , 'address'] = 0\n",
    "    elif row_series['address'] == 'R':\n",
    "        df.at[index_label , 'address'] = 1\n",
    "\n",
    "    if row_series['famsize'] == 'GT3':\n",
    "        df.at[index_label , 'famsize'] = 0\n",
    "    elif row_series['famsize'] == 'LE3':\n",
    "        df.at[index_label , 'famsize'] = 1\n",
    "\n",
    "    if row_series['Pstatus'] == 'A':\n",
    "        df.at[index_label , 'Pstatus'] = 0\n",
    "    elif row_series['Pstatus'] == 'T':\n",
    "        df.at[index_label , 'Pstatus'] = 1\n",
    "\n",
    "    if row_series['Mjob'] == 'at_home':\n",
    "        df.at[index_label , 'Mjob'] = 0\n",
    "    elif row_series['Mjob'] == 'health':\n",
    "        df.at[index_label , 'Mjob'] = 1\n",
    "    elif row_series['Mjob'] == 'services':\n",
    "        df.at[index_label , 'Mjob'] = 2\n",
    "    elif row_series['Mjob'] == 'teacher':\n",
    "        df.at[index_label , 'Mjob'] = 3\n",
    "    elif row_series['Mjob'] == 'other':\n",
    "        df.at[index_label , 'Mjob'] = 4\n",
    "\n",
    "    if row_series['Fjob'] == 'at_home':\n",
    "        df.at[index_label , 'Fjob'] = 0\n",
    "    elif row_series['Fjob'] == 'health':\n",
    "        df.at[index_label , 'Fjob'] = 1\n",
    "    elif row_series['Fjob'] == 'services':\n",
    "        df.at[index_label , 'Fjob'] = 2\n",
    "    elif row_series['Fjob'] == 'teacher':\n",
    "        df.at[index_label , 'Fjob'] = 3\n",
    "    elif row_series['Fjob'] == 'other':\n",
    "        df.at[index_label , 'Fjob'] = 4\n",
    "\n",
    "    if row_series['reason'] == 'home':\n",
    "        df.at[index_label , 'reason'] = 0\n",
    "    elif row_series['reason'] == 'reputation':\n",
    "        df.at[index_label , 'reason'] = 1\n",
    "    elif row_series['reason'] == 'course':\n",
    "        df.at[index_label , 'reason'] = 2\n",
    "    elif row_series['reason'] == 'other':\n",
    "        df.at[index_label , 'reason'] = 3\n",
    "\n",
    "    if row_series['guardian'] == 'mother':\n",
    "        df.at[index_label , 'guardian'] = 0\n",
    "    elif row_series['guardian'] == 'father':\n",
    "        df.at[index_label , 'guardian'] = 1\n",
    "    elif row_series['guardian'] == 'other':\n",
    "        df.at[index_label , 'guardian'] = 2\n",
    "\n",
    "    if row_series['schoolsup'] == 'no':\n",
    "        df.at[index_label , 'schoolsup'] = 0\n",
    "    elif row_series['schoolsup'] == 'yes':\n",
    "        df.at[index_label , 'schoolsup'] = 1\n",
    "\n",
    "    if row_series['famsup'] == 'no':\n",
    "        df.at[index_label , 'famsup'] = 0\n",
    "    elif row_series['famsup'] == 'yes':\n",
    "        df.at[index_label , 'famsup'] = 1\n",
    "\n",
    "    if row_series['paid'] == 'no':\n",
    "        df.at[index_label , 'paid'] = 0\n",
    "    elif row_series['paid'] == 'yes':\n",
    "        df.at[index_label , 'paid'] = 1\n",
    "\n",
    "    if row_series['activities'] == 'no':\n",
    "        df.at[index_label , 'activities'] = 0\n",
    "    elif row_series['activities'] == 'yes':\n",
    "        df.at[index_label , 'activities'] = 1\n",
    "\n",
    "    if row_series['nursery'] == 'no':\n",
    "        df.at[index_label , 'nursery'] = 0\n",
    "    elif row_series['nursery'] == 'yes':\n",
    "        df.at[index_label , 'nursery'] = 1\n",
    "\n",
    "    if row_series['higher'] == 'no':\n",
    "        df.at[index_label , 'higher'] = 0\n",
    "    elif row_series['higher'] == 'yes':\n",
    "        df.at[index_label , 'higher'] = 1\n",
    "\n",
    "    if row_series['internet'] == 'no':\n",
    "        df.at[index_label , 'internet'] = 0\n",
    "    elif row_series['internet'] == 'yes':\n",
    "        df.at[index_label , 'internet'] = 1\n",
    "\n",
    "    if row_series['romantic'] == 'no':\n",
    "        df.at[index_label , 'romantic'] = 0\n",
    "    elif row_series['romantic'] == 'yes':\n",
    "        df.at[index_label , 'romantic'] = 1\n",
    "\n",
    "df.head()\n"
   ]
  },
  {
   "cell_type": "code",
   "execution_count": 20,
   "metadata": {},
   "outputs": [
    {
     "output_type": "execute_result",
     "data": {
      "text/plain": "school        int64\nsex           int64\nage           int64\naddress       int64\nfamsize       int64\nPstatus       int64\nMjob          int64\nFjob          int64\nreason        int64\nguardian      int64\ntraveltime    int64\nstudytime     int64\nfailures      int64\nschoolsup     int64\nfamsup        int64\npaid          int64\nactivities    int64\nnursery       int64\nhigher        int64\ninternet      int64\nromantic      int64\nfamrel        int64\nfreetime      int64\nhealth        int64\nabsences      int64\nG1            int64\nG2            int64\nG3            int64\nPedu          int64\nalc           int64\ndtype: object"
     },
     "metadata": {},
     "execution_count": 20
    }
   ],
   "source": [
    "# Convert dataframe to numeric in order to be used with GaussianNB\n",
    "df = df.apply(pd.to_numeric)\n",
    "df.dtypes"
   ]
  },
  {
   "cell_type": "code",
   "execution_count": 21,
   "metadata": {},
   "outputs": [],
   "source": [
    "inputs = df.drop('sex', axis='columns')\n"
   ]
  },
  {
   "cell_type": "code",
   "execution_count": 22,
   "metadata": {},
   "outputs": [],
   "source": [
    "target = df.sex"
   ]
  },
  {
   "cell_type": "code",
   "execution_count": 23,
   "metadata": {},
   "outputs": [],
   "source": [
    "X_train, X_test, y_train, y_test = train_test_split(inputs,target,test_size=0.2)"
   ]
  },
  {
   "cell_type": "code",
   "execution_count": 24,
   "metadata": {},
   "outputs": [
    {
     "output_type": "execute_result",
     "data": {
      "text/plain": "672"
     },
     "metadata": {},
     "execution_count": 24
    }
   ],
   "source": [
    "len(inputs)"
   ]
  },
  {
   "cell_type": "code",
   "execution_count": 25,
   "metadata": {},
   "outputs": [
    {
     "output_type": "execute_result",
     "data": {
      "text/plain": "135"
     },
     "metadata": {},
     "execution_count": 25
    }
   ],
   "source": [
    "len(X_test)"
   ]
  },
  {
   "cell_type": "code",
   "execution_count": 26,
   "metadata": {},
   "outputs": [
    {
     "output_type": "execute_result",
     "data": {
      "text/plain": "537"
     },
     "metadata": {},
     "execution_count": 26
    }
   ],
   "source": [
    "len(X_train)"
   ]
  },
  {
   "cell_type": "code",
   "execution_count": 27,
   "metadata": {},
   "outputs": [],
   "source": [
    "model = GaussianNB()"
   ]
  },
  {
   "cell_type": "code",
   "execution_count": 28,
   "metadata": {},
   "outputs": [
    {
     "output_type": "execute_result",
     "data": {
      "text/plain": "GaussianNB(priors=None, var_smoothing=1e-09)"
     },
     "metadata": {},
     "execution_count": 28
    }
   ],
   "source": [
    "model.fit(X_train, y_train)"
   ]
  },
  {
   "cell_type": "code",
   "execution_count": 29,
   "metadata": {},
   "outputs": [
    {
     "output_type": "execute_result",
     "data": {
      "text/plain": "0.6888888888888889"
     },
     "metadata": {},
     "execution_count": 29
    }
   ],
   "source": [
    "model.score(X_test,y_test)"
   ]
  },
  {
   "cell_type": "code",
   "execution_count": 30,
   "metadata": {},
   "outputs": [
    {
     "output_type": "execute_result",
     "data": {
      "text/plain": "     school  age  address  famsize  Pstatus  Mjob  Fjob  reason  guardian  \\\n466       0   18        0        0        1     4     4       1         0   \n478       0   20        1        0        1     4     4       1         2   \n408       0   15        0        0        1     0     2       2         1   \n469       0   19        0        1        0     0     4       0         2   \n531       1   16        0        0        1     4     3       2         1   \n385       1   18        1        0        1     0     4       3         0   \n422       0   16        0        0        1     4     4       2         0   \n246       0   17        0        0        1     4     4       2         1   \n461       0   18        0        0        1     4     4       2         0   \n178       0   16        1        0        1     3     2       3         0   \n283       0   18        0        0        1     4     4       0         0   \n205       0   17        0        0        1     0     2       0         0   \n609       1   16        1        1        1     4     0       3         1   \n582       1   16        0        1        1     0     4       3         0   \n168       0   16        0        0        1     4     4       0         0   \n\n     traveltime  studytime  failures  schoolsup  famsup  paid  activities  \\\n466           1          1         0          0       0     0           0   \n478           2          3         0          0       0     0           0   \n408           1          2         0          0       0     0           0   \n469           2          1         1          0       0     0           0   \n531           1          2         0          0       1     0           1   \n385           2          3         0          0       0     1           0   \n422           1          1         0          0       0     0           0   \n246           2          1         0          0       0     0           0   \n461           1          1         0          0       1     0           1   \n178           1          1         0          0       1     0           1   \n283           2          2         0          1       0     0           1   \n205           1          3         1          0       1     1           0   \n609           1          1         0          0       0     0           0   \n582           3          2         0          0       1     0           0   \n168           1          2         0          0       1     1           0   \n\n     nursery  higher  internet  romantic  famrel  freetime  health  absences  \\\n466        0       1         1         0       5         3       5         6   \n478        1       1         1         1       3         2       3         8   \n408        0       1         0         1       2         4       1         6   \n469        1       0         1         0       2         2       5        16   \n531        1       1         0         1       4         2       3         0   \n385        1       1         0         0       5         3       4         2   \n422        1       0         1         0       5         4       5         4   \n246        1       1         1         0       5         2       2         4   \n461        1       1         1         1       4         4       5         2   \n178        1       1         1         1       4         3       3        10   \n283        1       1         1         0       5         4       4         4   \n205        1       1         1         1       4         4       5        28   \n609        1       1         1         0       4         2       2         0   \n582        1       1         1         0       4         2       5         6   \n168        0       1         1         0       5         3       4         0   \n\n     G1  G2  G3  Pedu  alc  \n466  15  14  15     2    2  \n478  11  15  15     1    2  \n408  11  11  11     2    3  \n469  10  11  11     2    4  \n531  13  12  13     4    1  \n385  10   9  10     2    2  \n422  12  11  11     2    2  \n246  12  12  13     2    1  \n461  10  10  10     2    3  \n178  10   8   9     3    4  \n283   8   9  10     1    1  \n205  10   9   9     4    4  \n609  10  11  11     2    2  \n582   6   8   8     1    2  \n168   6   7   0     2    1  ",
      "text/html": "<div>\n<style scoped>\n    .dataframe tbody tr th:only-of-type {\n        vertical-align: middle;\n    }\n\n    .dataframe tbody tr th {\n        vertical-align: top;\n    }\n\n    .dataframe thead th {\n        text-align: right;\n    }\n</style>\n<table border=\"1\" class=\"dataframe\">\n  <thead>\n    <tr style=\"text-align: right;\">\n      <th></th>\n      <th>school</th>\n      <th>age</th>\n      <th>address</th>\n      <th>famsize</th>\n      <th>Pstatus</th>\n      <th>Mjob</th>\n      <th>Fjob</th>\n      <th>reason</th>\n      <th>guardian</th>\n      <th>traveltime</th>\n      <th>studytime</th>\n      <th>failures</th>\n      <th>schoolsup</th>\n      <th>famsup</th>\n      <th>paid</th>\n      <th>activities</th>\n      <th>nursery</th>\n      <th>higher</th>\n      <th>internet</th>\n      <th>romantic</th>\n      <th>famrel</th>\n      <th>freetime</th>\n      <th>health</th>\n      <th>absences</th>\n      <th>G1</th>\n      <th>G2</th>\n      <th>G3</th>\n      <th>Pedu</th>\n      <th>alc</th>\n    </tr>\n  </thead>\n  <tbody>\n    <tr>\n      <td>466</td>\n      <td>0</td>\n      <td>18</td>\n      <td>0</td>\n      <td>0</td>\n      <td>1</td>\n      <td>4</td>\n      <td>4</td>\n      <td>1</td>\n      <td>0</td>\n      <td>1</td>\n      <td>1</td>\n      <td>0</td>\n      <td>0</td>\n      <td>0</td>\n      <td>0</td>\n      <td>0</td>\n      <td>0</td>\n      <td>1</td>\n      <td>1</td>\n      <td>0</td>\n      <td>5</td>\n      <td>3</td>\n      <td>5</td>\n      <td>6</td>\n      <td>15</td>\n      <td>14</td>\n      <td>15</td>\n      <td>2</td>\n      <td>2</td>\n    </tr>\n    <tr>\n      <td>478</td>\n      <td>0</td>\n      <td>20</td>\n      <td>1</td>\n      <td>0</td>\n      <td>1</td>\n      <td>4</td>\n      <td>4</td>\n      <td>1</td>\n      <td>2</td>\n      <td>2</td>\n      <td>3</td>\n      <td>0</td>\n      <td>0</td>\n      <td>0</td>\n      <td>0</td>\n      <td>0</td>\n      <td>1</td>\n      <td>1</td>\n      <td>1</td>\n      <td>1</td>\n      <td>3</td>\n      <td>2</td>\n      <td>3</td>\n      <td>8</td>\n      <td>11</td>\n      <td>15</td>\n      <td>15</td>\n      <td>1</td>\n      <td>2</td>\n    </tr>\n    <tr>\n      <td>408</td>\n      <td>0</td>\n      <td>15</td>\n      <td>0</td>\n      <td>0</td>\n      <td>1</td>\n      <td>0</td>\n      <td>2</td>\n      <td>2</td>\n      <td>1</td>\n      <td>1</td>\n      <td>2</td>\n      <td>0</td>\n      <td>0</td>\n      <td>0</td>\n      <td>0</td>\n      <td>0</td>\n      <td>0</td>\n      <td>1</td>\n      <td>0</td>\n      <td>1</td>\n      <td>2</td>\n      <td>4</td>\n      <td>1</td>\n      <td>6</td>\n      <td>11</td>\n      <td>11</td>\n      <td>11</td>\n      <td>2</td>\n      <td>3</td>\n    </tr>\n    <tr>\n      <td>469</td>\n      <td>0</td>\n      <td>19</td>\n      <td>0</td>\n      <td>1</td>\n      <td>0</td>\n      <td>0</td>\n      <td>4</td>\n      <td>0</td>\n      <td>2</td>\n      <td>2</td>\n      <td>1</td>\n      <td>1</td>\n      <td>0</td>\n      <td>0</td>\n      <td>0</td>\n      <td>0</td>\n      <td>1</td>\n      <td>0</td>\n      <td>1</td>\n      <td>0</td>\n      <td>2</td>\n      <td>2</td>\n      <td>5</td>\n      <td>16</td>\n      <td>10</td>\n      <td>11</td>\n      <td>11</td>\n      <td>2</td>\n      <td>4</td>\n    </tr>\n    <tr>\n      <td>531</td>\n      <td>1</td>\n      <td>16</td>\n      <td>0</td>\n      <td>0</td>\n      <td>1</td>\n      <td>4</td>\n      <td>3</td>\n      <td>2</td>\n      <td>1</td>\n      <td>1</td>\n      <td>2</td>\n      <td>0</td>\n      <td>0</td>\n      <td>1</td>\n      <td>0</td>\n      <td>1</td>\n      <td>1</td>\n      <td>1</td>\n      <td>0</td>\n      <td>1</td>\n      <td>4</td>\n      <td>2</td>\n      <td>3</td>\n      <td>0</td>\n      <td>13</td>\n      <td>12</td>\n      <td>13</td>\n      <td>4</td>\n      <td>1</td>\n    </tr>\n    <tr>\n      <td>385</td>\n      <td>1</td>\n      <td>18</td>\n      <td>1</td>\n      <td>0</td>\n      <td>1</td>\n      <td>0</td>\n      <td>4</td>\n      <td>3</td>\n      <td>0</td>\n      <td>2</td>\n      <td>3</td>\n      <td>0</td>\n      <td>0</td>\n      <td>0</td>\n      <td>1</td>\n      <td>0</td>\n      <td>1</td>\n      <td>1</td>\n      <td>0</td>\n      <td>0</td>\n      <td>5</td>\n      <td>3</td>\n      <td>4</td>\n      <td>2</td>\n      <td>10</td>\n      <td>9</td>\n      <td>10</td>\n      <td>2</td>\n      <td>2</td>\n    </tr>\n    <tr>\n      <td>422</td>\n      <td>0</td>\n      <td>16</td>\n      <td>0</td>\n      <td>0</td>\n      <td>1</td>\n      <td>4</td>\n      <td>4</td>\n      <td>2</td>\n      <td>0</td>\n      <td>1</td>\n      <td>1</td>\n      <td>0</td>\n      <td>0</td>\n      <td>0</td>\n      <td>0</td>\n      <td>0</td>\n      <td>1</td>\n      <td>0</td>\n      <td>1</td>\n      <td>0</td>\n      <td>5</td>\n      <td>4</td>\n      <td>5</td>\n      <td>4</td>\n      <td>12</td>\n      <td>11</td>\n      <td>11</td>\n      <td>2</td>\n      <td>2</td>\n    </tr>\n    <tr>\n      <td>246</td>\n      <td>0</td>\n      <td>17</td>\n      <td>0</td>\n      <td>0</td>\n      <td>1</td>\n      <td>4</td>\n      <td>4</td>\n      <td>2</td>\n      <td>1</td>\n      <td>2</td>\n      <td>1</td>\n      <td>0</td>\n      <td>0</td>\n      <td>0</td>\n      <td>0</td>\n      <td>0</td>\n      <td>1</td>\n      <td>1</td>\n      <td>1</td>\n      <td>0</td>\n      <td>5</td>\n      <td>2</td>\n      <td>2</td>\n      <td>4</td>\n      <td>12</td>\n      <td>12</td>\n      <td>13</td>\n      <td>2</td>\n      <td>1</td>\n    </tr>\n    <tr>\n      <td>461</td>\n      <td>0</td>\n      <td>18</td>\n      <td>0</td>\n      <td>0</td>\n      <td>1</td>\n      <td>4</td>\n      <td>4</td>\n      <td>2</td>\n      <td>0</td>\n      <td>1</td>\n      <td>1</td>\n      <td>0</td>\n      <td>0</td>\n      <td>1</td>\n      <td>0</td>\n      <td>1</td>\n      <td>1</td>\n      <td>1</td>\n      <td>1</td>\n      <td>1</td>\n      <td>4</td>\n      <td>4</td>\n      <td>5</td>\n      <td>2</td>\n      <td>10</td>\n      <td>10</td>\n      <td>10</td>\n      <td>2</td>\n      <td>3</td>\n    </tr>\n    <tr>\n      <td>178</td>\n      <td>0</td>\n      <td>16</td>\n      <td>1</td>\n      <td>0</td>\n      <td>1</td>\n      <td>3</td>\n      <td>2</td>\n      <td>3</td>\n      <td>0</td>\n      <td>1</td>\n      <td>1</td>\n      <td>0</td>\n      <td>0</td>\n      <td>1</td>\n      <td>0</td>\n      <td>1</td>\n      <td>1</td>\n      <td>1</td>\n      <td>1</td>\n      <td>1</td>\n      <td>4</td>\n      <td>3</td>\n      <td>3</td>\n      <td>10</td>\n      <td>10</td>\n      <td>8</td>\n      <td>9</td>\n      <td>3</td>\n      <td>4</td>\n    </tr>\n    <tr>\n      <td>283</td>\n      <td>0</td>\n      <td>18</td>\n      <td>0</td>\n      <td>0</td>\n      <td>1</td>\n      <td>4</td>\n      <td>4</td>\n      <td>0</td>\n      <td>0</td>\n      <td>2</td>\n      <td>2</td>\n      <td>0</td>\n      <td>1</td>\n      <td>0</td>\n      <td>0</td>\n      <td>1</td>\n      <td>1</td>\n      <td>1</td>\n      <td>1</td>\n      <td>0</td>\n      <td>5</td>\n      <td>4</td>\n      <td>4</td>\n      <td>4</td>\n      <td>8</td>\n      <td>9</td>\n      <td>10</td>\n      <td>1</td>\n      <td>1</td>\n    </tr>\n    <tr>\n      <td>205</td>\n      <td>0</td>\n      <td>17</td>\n      <td>0</td>\n      <td>0</td>\n      <td>1</td>\n      <td>0</td>\n      <td>2</td>\n      <td>0</td>\n      <td>0</td>\n      <td>1</td>\n      <td>3</td>\n      <td>1</td>\n      <td>0</td>\n      <td>1</td>\n      <td>1</td>\n      <td>0</td>\n      <td>1</td>\n      <td>1</td>\n      <td>1</td>\n      <td>1</td>\n      <td>4</td>\n      <td>4</td>\n      <td>5</td>\n      <td>28</td>\n      <td>10</td>\n      <td>9</td>\n      <td>9</td>\n      <td>4</td>\n      <td>4</td>\n    </tr>\n    <tr>\n      <td>609</td>\n      <td>1</td>\n      <td>16</td>\n      <td>1</td>\n      <td>1</td>\n      <td>1</td>\n      <td>4</td>\n      <td>0</td>\n      <td>3</td>\n      <td>1</td>\n      <td>1</td>\n      <td>1</td>\n      <td>0</td>\n      <td>0</td>\n      <td>0</td>\n      <td>0</td>\n      <td>0</td>\n      <td>1</td>\n      <td>1</td>\n      <td>1</td>\n      <td>0</td>\n      <td>4</td>\n      <td>2</td>\n      <td>2</td>\n      <td>0</td>\n      <td>10</td>\n      <td>11</td>\n      <td>11</td>\n      <td>2</td>\n      <td>2</td>\n    </tr>\n    <tr>\n      <td>582</td>\n      <td>1</td>\n      <td>16</td>\n      <td>0</td>\n      <td>1</td>\n      <td>1</td>\n      <td>0</td>\n      <td>4</td>\n      <td>3</td>\n      <td>0</td>\n      <td>3</td>\n      <td>2</td>\n      <td>0</td>\n      <td>0</td>\n      <td>1</td>\n      <td>0</td>\n      <td>0</td>\n      <td>1</td>\n      <td>1</td>\n      <td>1</td>\n      <td>0</td>\n      <td>4</td>\n      <td>2</td>\n      <td>5</td>\n      <td>6</td>\n      <td>6</td>\n      <td>8</td>\n      <td>8</td>\n      <td>1</td>\n      <td>2</td>\n    </tr>\n    <tr>\n      <td>168</td>\n      <td>0</td>\n      <td>16</td>\n      <td>0</td>\n      <td>0</td>\n      <td>1</td>\n      <td>4</td>\n      <td>4</td>\n      <td>0</td>\n      <td>0</td>\n      <td>1</td>\n      <td>2</td>\n      <td>0</td>\n      <td>0</td>\n      <td>1</td>\n      <td>1</td>\n      <td>0</td>\n      <td>0</td>\n      <td>1</td>\n      <td>1</td>\n      <td>0</td>\n      <td>5</td>\n      <td>3</td>\n      <td>4</td>\n      <td>0</td>\n      <td>6</td>\n      <td>7</td>\n      <td>0</td>\n      <td>2</td>\n      <td>1</td>\n    </tr>\n  </tbody>\n</table>\n</div>"
     },
     "metadata": {},
     "execution_count": 30
    }
   ],
   "source": [
    "X_test[0:15]"
   ]
  },
  {
   "cell_type": "code",
   "execution_count": 31,
   "metadata": {},
   "outputs": [
    {
     "output_type": "execute_result",
     "data": {
      "text/plain": "466    1\n478    0\n408    0\n469    0\n531    1\n385    0\n422    0\n246    1\n461    0\n178    1\n283    0\n205    0\n609    1\n582    0\n168    0\nName: sex, dtype: int64"
     },
     "metadata": {},
     "execution_count": 31
    }
   ],
   "source": [
    "y_test[0:15]"
   ]
  },
  {
   "cell_type": "code",
   "execution_count": 32,
   "metadata": {},
   "outputs": [
    {
     "output_type": "execute_result",
     "data": {
      "text/plain": "array([1, 0, 0, 1, 0, 0, 1, 0, 1, 1, 0, 1, 0, 0, 0], dtype=int64)"
     },
     "metadata": {},
     "execution_count": 32
    }
   ],
   "source": [
    "model.predict(X_test[:15])"
   ]
  }
 ],
 "metadata": {
  "language_info": {
   "codemirror_mode": {
    "name": "ipython",
    "version": 3
   },
   "file_extension": ".py",
   "mimetype": "text/x-python",
   "name": "python",
   "nbconvert_exporter": "python",
   "pygments_lexer": "ipython3",
   "version": "3.7.4-final"
  },
  "orig_nbformat": 2,
  "kernelspec": {
   "name": "python3",
   "display_name": "Python 3"
  }
 },
 "nbformat": 4,
 "nbformat_minor": 2
}