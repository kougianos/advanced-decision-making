{
 "cells": [
  {
   "cell_type": "code",
   "execution_count": 73,
   "metadata": {},
   "outputs": [],
   "source": [
    "# importing required libraries\n",
    "import pandas as pd  \n",
    "import numpy as np  \n",
    "from sklearn.model_selection import train_test_split \n",
    "from sklearn.linear_model import LinearRegression\n",
    "from sklearn import metrics\n",
    "%matplotlib inline \n",
    "pd.set_option('display.max_rows', 500)\n",
    "pd.set_option('display.max_columns', 500)"
   ]
  },
  {
   "cell_type": "code",
   "execution_count": 74,
   "metadata": {},
   "outputs": [],
   "source": [
    "df = pd.read_csv(\"../data/student-merged.csv\")"
   ]
  },
  {
   "cell_type": "code",
   "execution_count": 75,
   "metadata": {},
   "outputs": [
    {
     "output_type": "execute_result",
     "data": {
      "text/plain": "(672, 30)"
     },
     "metadata": {},
     "execution_count": 75
    }
   ],
   "source": [
    "df.shape"
   ]
  },
  {
   "cell_type": "code",
   "execution_count": 76,
   "metadata": {},
   "outputs": [
    {
     "output_type": "execute_result",
     "data": {
      "text/plain": "              age  traveltime   studytime    failures      famrel    freetime  \\\ncount  672.000000  672.000000  672.000000  672.000000  672.000000  672.000000   \nmean    16.812500    1.566964    1.928571    0.336310    3.938988    3.191964   \nstd      1.264189    0.745565    0.824884    0.722219    0.939685    0.961429   \nmin     15.000000    1.000000    1.000000    0.000000    1.000000    1.000000   \n25%     16.000000    1.000000    1.000000    0.000000    4.000000    2.000000   \n50%     17.000000    1.000000    2.000000    0.000000    4.000000    3.000000   \n75%     18.000000    2.000000    2.000000    0.000000    5.000000    4.000000   \nmax     22.000000    4.000000    4.000000    3.000000    5.000000    5.000000   \n\n           health    absences          G1          G2          G3        Pedu  \\\ncount  672.000000  672.000000  672.000000  672.000000  672.000000  672.000000   \nmean     3.534226    4.875000   10.715774   10.690476   10.684524    2.449405   \nstd      1.435765    6.823897    3.082742    3.538508    4.144398    1.050356   \nmin      1.000000    0.000000    3.000000    0.000000    0.000000    0.000000   \n25%      2.000000    0.000000    8.000000    9.000000    9.000000    2.000000   \n50%      4.000000    2.000000   10.000000   11.000000   11.000000    2.000000   \n75%      5.000000    7.250000   13.000000   13.000000   13.000000    3.000000   \nmax      5.000000   75.000000   19.000000   19.000000   20.000000    4.000000   \n\n              alc  \ncount  672.000000  \nmean     1.938988  \nstd      0.992144  \nmin      1.000000  \n25%      1.000000  \n50%      2.000000  \n75%      2.000000  \nmax      5.000000  ",
      "text/html": "<div>\n<style scoped>\n    .dataframe tbody tr th:only-of-type {\n        vertical-align: middle;\n    }\n\n    .dataframe tbody tr th {\n        vertical-align: top;\n    }\n\n    .dataframe thead th {\n        text-align: right;\n    }\n</style>\n<table border=\"1\" class=\"dataframe\">\n  <thead>\n    <tr style=\"text-align: right;\">\n      <th></th>\n      <th>age</th>\n      <th>traveltime</th>\n      <th>studytime</th>\n      <th>failures</th>\n      <th>famrel</th>\n      <th>freetime</th>\n      <th>health</th>\n      <th>absences</th>\n      <th>G1</th>\n      <th>G2</th>\n      <th>G3</th>\n      <th>Pedu</th>\n      <th>alc</th>\n    </tr>\n  </thead>\n  <tbody>\n    <tr>\n      <td>count</td>\n      <td>672.000000</td>\n      <td>672.000000</td>\n      <td>672.000000</td>\n      <td>672.000000</td>\n      <td>672.000000</td>\n      <td>672.000000</td>\n      <td>672.000000</td>\n      <td>672.000000</td>\n      <td>672.000000</td>\n      <td>672.000000</td>\n      <td>672.000000</td>\n      <td>672.000000</td>\n      <td>672.000000</td>\n    </tr>\n    <tr>\n      <td>mean</td>\n      <td>16.812500</td>\n      <td>1.566964</td>\n      <td>1.928571</td>\n      <td>0.336310</td>\n      <td>3.938988</td>\n      <td>3.191964</td>\n      <td>3.534226</td>\n      <td>4.875000</td>\n      <td>10.715774</td>\n      <td>10.690476</td>\n      <td>10.684524</td>\n      <td>2.449405</td>\n      <td>1.938988</td>\n    </tr>\n    <tr>\n      <td>std</td>\n      <td>1.264189</td>\n      <td>0.745565</td>\n      <td>0.824884</td>\n      <td>0.722219</td>\n      <td>0.939685</td>\n      <td>0.961429</td>\n      <td>1.435765</td>\n      <td>6.823897</td>\n      <td>3.082742</td>\n      <td>3.538508</td>\n      <td>4.144398</td>\n      <td>1.050356</td>\n      <td>0.992144</td>\n    </tr>\n    <tr>\n      <td>min</td>\n      <td>15.000000</td>\n      <td>1.000000</td>\n      <td>1.000000</td>\n      <td>0.000000</td>\n      <td>1.000000</td>\n      <td>1.000000</td>\n      <td>1.000000</td>\n      <td>0.000000</td>\n      <td>3.000000</td>\n      <td>0.000000</td>\n      <td>0.000000</td>\n      <td>0.000000</td>\n      <td>1.000000</td>\n    </tr>\n    <tr>\n      <td>25%</td>\n      <td>16.000000</td>\n      <td>1.000000</td>\n      <td>1.000000</td>\n      <td>0.000000</td>\n      <td>4.000000</td>\n      <td>2.000000</td>\n      <td>2.000000</td>\n      <td>0.000000</td>\n      <td>8.000000</td>\n      <td>9.000000</td>\n      <td>9.000000</td>\n      <td>2.000000</td>\n      <td>1.000000</td>\n    </tr>\n    <tr>\n      <td>50%</td>\n      <td>17.000000</td>\n      <td>1.000000</td>\n      <td>2.000000</td>\n      <td>0.000000</td>\n      <td>4.000000</td>\n      <td>3.000000</td>\n      <td>4.000000</td>\n      <td>2.000000</td>\n      <td>10.000000</td>\n      <td>11.000000</td>\n      <td>11.000000</td>\n      <td>2.000000</td>\n      <td>2.000000</td>\n    </tr>\n    <tr>\n      <td>75%</td>\n      <td>18.000000</td>\n      <td>2.000000</td>\n      <td>2.000000</td>\n      <td>0.000000</td>\n      <td>5.000000</td>\n      <td>4.000000</td>\n      <td>5.000000</td>\n      <td>7.250000</td>\n      <td>13.000000</td>\n      <td>13.000000</td>\n      <td>13.000000</td>\n      <td>3.000000</td>\n      <td>2.000000</td>\n    </tr>\n    <tr>\n      <td>max</td>\n      <td>22.000000</td>\n      <td>4.000000</td>\n      <td>4.000000</td>\n      <td>3.000000</td>\n      <td>5.000000</td>\n      <td>5.000000</td>\n      <td>5.000000</td>\n      <td>75.000000</td>\n      <td>19.000000</td>\n      <td>19.000000</td>\n      <td>20.000000</td>\n      <td>4.000000</td>\n      <td>5.000000</td>\n    </tr>\n  </tbody>\n</table>\n</div>"
     },
     "metadata": {},
     "execution_count": 76
    }
   ],
   "source": [
    "df.describe()"
   ]
  },
  {
   "cell_type": "code",
   "execution_count": 77,
   "metadata": {},
   "outputs": [
    {
     "output_type": "execute_result",
     "data": {
      "text/plain": "  school sex  age address famsize Pstatus Mjob Fjob reason guardian  \\\n0      0   0   18       0       0       0    0    3      2        0   \n1      0   0   17       0       0       1    0    4      2        1   \n2      0   0   15       0       1       1    0    4      3        0   \n3      0   0   15       0       0       1    1    2      0        0   \n4      0   0   16       0       0       1    4    4      0        1   \n\n   traveltime  studytime  failures schoolsup famsup paid activities nursery  \\\n0           2          2         0         1      0    0          0       1   \n1           1          2         0         0      1    0          0       0   \n2           1          2         3         1      0    1          0       1   \n3           1          3         0         0      1    1          1       1   \n4           1          2         0         0      1    1          0       1   \n\n  higher internet romantic  famrel  freetime  health  absences  G1  G2  G3  \\\n0      1        0        0       4         4       3         6   5   6   6   \n1      1        1        0       5         3       3         4   5   5   6   \n2      1        1        0       4         2       3        10   7   8  10   \n3      1        1        1       3         2       5         2  15  14  15   \n4      1        0        0       4         2       5         4   6  10  10   \n\n   Pedu  alc  \n0     4    1  \n1     1    1  \n2     1    2  \n3     3    1  \n4     3    2  ",
      "text/html": "<div>\n<style scoped>\n    .dataframe tbody tr th:only-of-type {\n        vertical-align: middle;\n    }\n\n    .dataframe tbody tr th {\n        vertical-align: top;\n    }\n\n    .dataframe thead th {\n        text-align: right;\n    }\n</style>\n<table border=\"1\" class=\"dataframe\">\n  <thead>\n    <tr style=\"text-align: right;\">\n      <th></th>\n      <th>school</th>\n      <th>sex</th>\n      <th>age</th>\n      <th>address</th>\n      <th>famsize</th>\n      <th>Pstatus</th>\n      <th>Mjob</th>\n      <th>Fjob</th>\n      <th>reason</th>\n      <th>guardian</th>\n      <th>traveltime</th>\n      <th>studytime</th>\n      <th>failures</th>\n      <th>schoolsup</th>\n      <th>famsup</th>\n      <th>paid</th>\n      <th>activities</th>\n      <th>nursery</th>\n      <th>higher</th>\n      <th>internet</th>\n      <th>romantic</th>\n      <th>famrel</th>\n      <th>freetime</th>\n      <th>health</th>\n      <th>absences</th>\n      <th>G1</th>\n      <th>G2</th>\n      <th>G3</th>\n      <th>Pedu</th>\n      <th>alc</th>\n    </tr>\n  </thead>\n  <tbody>\n    <tr>\n      <td>0</td>\n      <td>0</td>\n      <td>0</td>\n      <td>18</td>\n      <td>0</td>\n      <td>0</td>\n      <td>0</td>\n      <td>0</td>\n      <td>3</td>\n      <td>2</td>\n      <td>0</td>\n      <td>2</td>\n      <td>2</td>\n      <td>0</td>\n      <td>1</td>\n      <td>0</td>\n      <td>0</td>\n      <td>0</td>\n      <td>1</td>\n      <td>1</td>\n      <td>0</td>\n      <td>0</td>\n      <td>4</td>\n      <td>4</td>\n      <td>3</td>\n      <td>6</td>\n      <td>5</td>\n      <td>6</td>\n      <td>6</td>\n      <td>4</td>\n      <td>1</td>\n    </tr>\n    <tr>\n      <td>1</td>\n      <td>0</td>\n      <td>0</td>\n      <td>17</td>\n      <td>0</td>\n      <td>0</td>\n      <td>1</td>\n      <td>0</td>\n      <td>4</td>\n      <td>2</td>\n      <td>1</td>\n      <td>1</td>\n      <td>2</td>\n      <td>0</td>\n      <td>0</td>\n      <td>1</td>\n      <td>0</td>\n      <td>0</td>\n      <td>0</td>\n      <td>1</td>\n      <td>1</td>\n      <td>0</td>\n      <td>5</td>\n      <td>3</td>\n      <td>3</td>\n      <td>4</td>\n      <td>5</td>\n      <td>5</td>\n      <td>6</td>\n      <td>1</td>\n      <td>1</td>\n    </tr>\n    <tr>\n      <td>2</td>\n      <td>0</td>\n      <td>0</td>\n      <td>15</td>\n      <td>0</td>\n      <td>1</td>\n      <td>1</td>\n      <td>0</td>\n      <td>4</td>\n      <td>3</td>\n      <td>0</td>\n      <td>1</td>\n      <td>2</td>\n      <td>3</td>\n      <td>1</td>\n      <td>0</td>\n      <td>1</td>\n      <td>0</td>\n      <td>1</td>\n      <td>1</td>\n      <td>1</td>\n      <td>0</td>\n      <td>4</td>\n      <td>2</td>\n      <td>3</td>\n      <td>10</td>\n      <td>7</td>\n      <td>8</td>\n      <td>10</td>\n      <td>1</td>\n      <td>2</td>\n    </tr>\n    <tr>\n      <td>3</td>\n      <td>0</td>\n      <td>0</td>\n      <td>15</td>\n      <td>0</td>\n      <td>0</td>\n      <td>1</td>\n      <td>1</td>\n      <td>2</td>\n      <td>0</td>\n      <td>0</td>\n      <td>1</td>\n      <td>3</td>\n      <td>0</td>\n      <td>0</td>\n      <td>1</td>\n      <td>1</td>\n      <td>1</td>\n      <td>1</td>\n      <td>1</td>\n      <td>1</td>\n      <td>1</td>\n      <td>3</td>\n      <td>2</td>\n      <td>5</td>\n      <td>2</td>\n      <td>15</td>\n      <td>14</td>\n      <td>15</td>\n      <td>3</td>\n      <td>1</td>\n    </tr>\n    <tr>\n      <td>4</td>\n      <td>0</td>\n      <td>0</td>\n      <td>16</td>\n      <td>0</td>\n      <td>0</td>\n      <td>1</td>\n      <td>4</td>\n      <td>4</td>\n      <td>0</td>\n      <td>1</td>\n      <td>1</td>\n      <td>2</td>\n      <td>0</td>\n      <td>0</td>\n      <td>1</td>\n      <td>1</td>\n      <td>0</td>\n      <td>1</td>\n      <td>1</td>\n      <td>0</td>\n      <td>0</td>\n      <td>4</td>\n      <td>2</td>\n      <td>5</td>\n      <td>4</td>\n      <td>6</td>\n      <td>10</td>\n      <td>10</td>\n      <td>3</td>\n      <td>2</td>\n    </tr>\n  </tbody>\n</table>\n</div>"
     },
     "metadata": {},
     "execution_count": 77
    }
   ],
   "source": [
    "# Data preprocessing - convert all classified attributes to numeric\n",
    "for index_label, row_series in df.iterrows():\n",
    "\n",
    "    if row_series['school'] == 'GP':\n",
    "        df.at[index_label , 'school'] = 0\n",
    "    elif row_series['school'] == 'MS':\n",
    "        df.at[index_label , 'school'] = 1\n",
    "\n",
    "    if row_series['sex'] == 'F':\n",
    "        df.at[index_label , 'sex'] = 0\n",
    "    elif row_series['sex'] == 'M':\n",
    "        df.at[index_label , 'sex'] = 1\n",
    "\n",
    "    if row_series['address'] == 'U':\n",
    "        df.at[index_label , 'address'] = 0\n",
    "    elif row_series['address'] == 'R':\n",
    "        df.at[index_label , 'address'] = 1\n",
    "\n",
    "    if row_series['famsize'] == 'GT3':\n",
    "        df.at[index_label , 'famsize'] = 0\n",
    "    elif row_series['famsize'] == 'LE3':\n",
    "        df.at[index_label , 'famsize'] = 1\n",
    "\n",
    "    if row_series['Pstatus'] == 'A':\n",
    "        df.at[index_label , 'Pstatus'] = 0\n",
    "    elif row_series['Pstatus'] == 'T':\n",
    "        df.at[index_label , 'Pstatus'] = 1\n",
    "\n",
    "    if row_series['Mjob'] == 'at_home':\n",
    "        df.at[index_label , 'Mjob'] = 0\n",
    "    elif row_series['Mjob'] == 'health':\n",
    "        df.at[index_label , 'Mjob'] = 1\n",
    "    elif row_series['Mjob'] == 'services':\n",
    "        df.at[index_label , 'Mjob'] = 2\n",
    "    elif row_series['Mjob'] == 'teacher':\n",
    "        df.at[index_label , 'Mjob'] = 3\n",
    "    elif row_series['Mjob'] == 'other':\n",
    "        df.at[index_label , 'Mjob'] = 4\n",
    "\n",
    "    if row_series['Fjob'] == 'at_home':\n",
    "        df.at[index_label , 'Fjob'] = 0\n",
    "    elif row_series['Fjob'] == 'health':\n",
    "        df.at[index_label , 'Fjob'] = 1\n",
    "    elif row_series['Fjob'] == 'services':\n",
    "        df.at[index_label , 'Fjob'] = 2\n",
    "    elif row_series['Fjob'] == 'teacher':\n",
    "        df.at[index_label , 'Fjob'] = 3\n",
    "    elif row_series['Fjob'] == 'other':\n",
    "        df.at[index_label , 'Fjob'] = 4\n",
    "\n",
    "    if row_series['reason'] == 'home':\n",
    "        df.at[index_label , 'reason'] = 0\n",
    "    elif row_series['reason'] == 'reputation':\n",
    "        df.at[index_label , 'reason'] = 1\n",
    "    elif row_series['reason'] == 'course':\n",
    "        df.at[index_label , 'reason'] = 2\n",
    "    elif row_series['reason'] == 'other':\n",
    "        df.at[index_label , 'reason'] = 3\n",
    "\n",
    "    if row_series['guardian'] == 'mother':\n",
    "        df.at[index_label , 'guardian'] = 0\n",
    "    elif row_series['guardian'] == 'father':\n",
    "        df.at[index_label , 'guardian'] = 1\n",
    "    elif row_series['guardian'] == 'other':\n",
    "        df.at[index_label , 'guardian'] = 2\n",
    "\n",
    "    if row_series['schoolsup'] == 'no':\n",
    "        df.at[index_label , 'schoolsup'] = 0\n",
    "    elif row_series['schoolsup'] == 'yes':\n",
    "        df.at[index_label , 'schoolsup'] = 1\n",
    "\n",
    "    if row_series['famsup'] == 'no':\n",
    "        df.at[index_label , 'famsup'] = 0\n",
    "    elif row_series['famsup'] == 'yes':\n",
    "        df.at[index_label , 'famsup'] = 1\n",
    "\n",
    "    if row_series['paid'] == 'no':\n",
    "        df.at[index_label , 'paid'] = 0\n",
    "    elif row_series['paid'] == 'yes':\n",
    "        df.at[index_label , 'paid'] = 1\n",
    "\n",
    "    if row_series['activities'] == 'no':\n",
    "        df.at[index_label , 'activities'] = 0\n",
    "    elif row_series['activities'] == 'yes':\n",
    "        df.at[index_label , 'activities'] = 1\n",
    "\n",
    "    if row_series['nursery'] == 'no':\n",
    "        df.at[index_label , 'nursery'] = 0\n",
    "    elif row_series['nursery'] == 'yes':\n",
    "        df.at[index_label , 'nursery'] = 1\n",
    "\n",
    "    if row_series['higher'] == 'no':\n",
    "        df.at[index_label , 'higher'] = 0\n",
    "    elif row_series['higher'] == 'yes':\n",
    "        df.at[index_label , 'higher'] = 1\n",
    "\n",
    "    if row_series['internet'] == 'no':\n",
    "        df.at[index_label , 'internet'] = 0\n",
    "    elif row_series['internet'] == 'yes':\n",
    "        df.at[index_label , 'internet'] = 1\n",
    "\n",
    "    if row_series['romantic'] == 'no':\n",
    "        df.at[index_label , 'romantic'] = 0\n",
    "    elif row_series['romantic'] == 'yes':\n",
    "        df.at[index_label , 'romantic'] = 1\n",
    "\n",
    "df.head()\n",
    "# df.to_numpy()"
   ]
  },
  {
   "cell_type": "code",
   "execution_count": 78,
   "metadata": {},
   "outputs": [
    {
     "output_type": "execute_result",
     "data": {
      "text/plain": "0     6\n1     6\n2    10\n3    15\n4    10\nName: G3, dtype: int64"
     },
     "metadata": {},
     "execution_count": 78
    }
   ],
   "source": [
    "#Define variables X and Y\n",
    "X = df.drop('G3', axis='columns')\n",
    "y = df['G3']\n",
    "y.head()"
   ]
  },
  {
   "cell_type": "code",
   "execution_count": 79,
   "metadata": {},
   "outputs": [],
   "source": [
    "#Split Data 80-20\n",
    "X_train, X_test, y_train, y_test = train_test_split(X, y, test_size=0.2, random_state=0)"
   ]
  },
  {
   "cell_type": "code",
   "execution_count": 80,
   "metadata": {},
   "outputs": [
    {
     "output_type": "execute_result",
     "data": {
      "text/plain": "LinearRegression(copy_X=True, fit_intercept=True, n_jobs=None, normalize=False)"
     },
     "metadata": {},
     "execution_count": 80
    }
   ],
   "source": [
    "#train the algorithm\n",
    "lnr = LinearRegression()  \n",
    "lnr.fit(X_train, y_train) "
   ]
  },
  {
   "cell_type": "code",
   "execution_count": 81,
   "metadata": {},
   "outputs": [
    {
     "output_type": "stream",
     "name": "stdout",
     "text": "\nb= -1.3422111311583311\n\na= [ 0.35887724  0.01331654 -0.03199873 -0.11072316  0.17638956 -0.10011708\n  0.04717198  0.00924762  0.09604736 -0.07417629  0.22618526 -0.13872062\n -0.13500358  0.29310014  0.18651396 -0.12608928 -0.32537586 -0.18511271\n -0.01559576 -0.24802096 -0.11642806  0.06418092  0.08441478  0.01022808\n  0.033178    0.16335347  0.95886555 -0.00678052 -0.03694797]\n"
    }
   ],
   "source": [
    "#Find the intercept:\n",
    "print('\\nb=',lnr.intercept_)\n",
    "#find the slope:\n",
    "print('\\na=',lnr.coef_)"
   ]
  },
  {
   "cell_type": "code",
   "execution_count": 82,
   "metadata": {},
   "outputs": [],
   "source": [
    "y_pred = lnr.predict(X_test)"
   ]
  },
  {
   "cell_type": "code",
   "execution_count": 83,
   "metadata": {},
   "outputs": [
    {
     "output_type": "stream",
     "name": "stdout",
     "text": "<class 'numpy.ndarray'>\n<class 'numpy.ndarray'>\n"
    }
   ],
   "source": [
    "print(type(y_pred))\n",
    "print(type(y_test.to_numpy()))"
   ]
  },
  {
   "cell_type": "code",
   "execution_count": 84,
   "metadata": {},
   "outputs": [],
   "source": [
    "y_pred = y_pred.round()\n",
    "y_pred = y_pred.astype(int)"
   ]
  },
  {
   "cell_type": "code",
   "execution_count": 85,
   "metadata": {},
   "outputs": [
    {
     "output_type": "execute_result",
     "data": {
      "text/plain": "582     8\n310     0\n14     16\n642     8\n76     10\n165    12\n498    11\n468    16\n651    18\n401    12\n222    17\n306    18\n367     0\n548    10\n631     8\n75     10\n501    12\n649    13\n181    12\n597    10\n460     9\n285    11\n312    11\n412     8\n400    13\n303    18\n162     0\n414    13\n402    11\n482    14\nName: G3, dtype: int64"
     },
     "metadata": {},
     "execution_count": 85
    }
   ],
   "source": [
    "\n",
    "y_test[:30]"
   ]
  },
  {
   "cell_type": "code",
   "execution_count": 86,
   "metadata": {},
   "outputs": [
    {
     "output_type": "execute_result",
     "data": {
      "text/plain": "     Actual  Predicted\n0         8          8\n1         0          8\n2        16         16\n3         8          7\n4        10         11\n5        12         12\n6        11          9\n7        16         16\n8        18         19\n9        12         11\n10       17         17\n11       18         18\n12        0          6\n13       10         10\n14        8          7\n15       10          8\n16       12         12\n17       13         13\n18       12         12\n19       10         12\n20        9          8\n21       11         10\n22       11         11\n23        8          7\n24       13         14\n25       18         17\n26        0          0\n27       13         13\n28       11         11\n29       14         14\n30       10          9\n31       13         13\n32       16         17\n33       16         16\n34       16         15\n35        8          8\n36        8          9\n37       10          8\n38       15         14\n39       11         11\n40        9          9\n41       11         12\n42       14         15\n43        5          4\n44       11         10\n45       15         13\n46        0          6\n47        0         -1\n48       10          9\n49       10          9\n50       10          9\n51       14         12\n52       10         12\n53       18         19\n54       13         13\n55       11         11\n56       19         20\n57        8          8\n58       14         13\n59        0         -1\n60        7          6\n61       13         14\n62        8          8\n63        8          7\n64        9         10\n65       11         11\n66       14         11\n67       14         15\n68       15         16\n69       14         13\n70        5          4\n71       14         11\n72       14         15\n73       10          8\n74        7          7\n75        8          8\n76       12         12\n77       11         10\n78       10         11\n79        9          9\n80       10          8\n81       13         13\n82       14         14\n83       10         10\n84       14         12\n85       10         10\n86        8          5\n87       10         10\n88        6          7\n89        8          8\n90       10          8\n91       16         16\n92        8          7\n93        9          8\n94       12         12\n95        0         -1\n96       15         15\n97       16         17\n98       13         13\n99       12         12\n100      11         10\n101      10         10\n102       9         10\n103      10          8\n104      17         17\n105      18         19\n106       9          9\n107      14         13\n108       0          4\n109       0          4\n110       6          4\n111      15         16\n112      11         11\n113      10          8\n114      15         14\n115      18         18\n116      13         13\n117       6          8\n118       9          7\n119      15         14\n120      19         18\n121      12         10\n122       9         10\n123      15         15\n124      10         11\n125      17         16\n126      14         11\n127      15         15\n128      11         10\n129      11         11\n130      11          9\n131      15         15\n132      10         10\n133      17         17\n134       0          0",
      "text/html": "<div>\n<style scoped>\n    .dataframe tbody tr th:only-of-type {\n        vertical-align: middle;\n    }\n\n    .dataframe tbody tr th {\n        vertical-align: top;\n    }\n\n    .dataframe thead th {\n        text-align: right;\n    }\n</style>\n<table border=\"1\" class=\"dataframe\">\n  <thead>\n    <tr style=\"text-align: right;\">\n      <th></th>\n      <th>Actual</th>\n      <th>Predicted</th>\n    </tr>\n  </thead>\n  <tbody>\n    <tr>\n      <td>0</td>\n      <td>8</td>\n      <td>8</td>\n    </tr>\n    <tr>\n      <td>1</td>\n      <td>0</td>\n      <td>8</td>\n    </tr>\n    <tr>\n      <td>2</td>\n      <td>16</td>\n      <td>16</td>\n    </tr>\n    <tr>\n      <td>3</td>\n      <td>8</td>\n      <td>7</td>\n    </tr>\n    <tr>\n      <td>4</td>\n      <td>10</td>\n      <td>11</td>\n    </tr>\n    <tr>\n      <td>5</td>\n      <td>12</td>\n      <td>12</td>\n    </tr>\n    <tr>\n      <td>6</td>\n      <td>11</td>\n      <td>9</td>\n    </tr>\n    <tr>\n      <td>7</td>\n      <td>16</td>\n      <td>16</td>\n    </tr>\n    <tr>\n      <td>8</td>\n      <td>18</td>\n      <td>19</td>\n    </tr>\n    <tr>\n      <td>9</td>\n      <td>12</td>\n      <td>11</td>\n    </tr>\n    <tr>\n      <td>10</td>\n      <td>17</td>\n      <td>17</td>\n    </tr>\n    <tr>\n      <td>11</td>\n      <td>18</td>\n      <td>18</td>\n    </tr>\n    <tr>\n      <td>12</td>\n      <td>0</td>\n      <td>6</td>\n    </tr>\n    <tr>\n      <td>13</td>\n      <td>10</td>\n      <td>10</td>\n    </tr>\n    <tr>\n      <td>14</td>\n      <td>8</td>\n      <td>7</td>\n    </tr>\n    <tr>\n      <td>15</td>\n      <td>10</td>\n      <td>8</td>\n    </tr>\n    <tr>\n      <td>16</td>\n      <td>12</td>\n      <td>12</td>\n    </tr>\n    <tr>\n      <td>17</td>\n      <td>13</td>\n      <td>13</td>\n    </tr>\n    <tr>\n      <td>18</td>\n      <td>12</td>\n      <td>12</td>\n    </tr>\n    <tr>\n      <td>19</td>\n      <td>10</td>\n      <td>12</td>\n    </tr>\n    <tr>\n      <td>20</td>\n      <td>9</td>\n      <td>8</td>\n    </tr>\n    <tr>\n      <td>21</td>\n      <td>11</td>\n      <td>10</td>\n    </tr>\n    <tr>\n      <td>22</td>\n      <td>11</td>\n      <td>11</td>\n    </tr>\n    <tr>\n      <td>23</td>\n      <td>8</td>\n      <td>7</td>\n    </tr>\n    <tr>\n      <td>24</td>\n      <td>13</td>\n      <td>14</td>\n    </tr>\n    <tr>\n      <td>25</td>\n      <td>18</td>\n      <td>17</td>\n    </tr>\n    <tr>\n      <td>26</td>\n      <td>0</td>\n      <td>0</td>\n    </tr>\n    <tr>\n      <td>27</td>\n      <td>13</td>\n      <td>13</td>\n    </tr>\n    <tr>\n      <td>28</td>\n      <td>11</td>\n      <td>11</td>\n    </tr>\n    <tr>\n      <td>29</td>\n      <td>14</td>\n      <td>14</td>\n    </tr>\n    <tr>\n      <td>30</td>\n      <td>10</td>\n      <td>9</td>\n    </tr>\n    <tr>\n      <td>31</td>\n      <td>13</td>\n      <td>13</td>\n    </tr>\n    <tr>\n      <td>32</td>\n      <td>16</td>\n      <td>17</td>\n    </tr>\n    <tr>\n      <td>33</td>\n      <td>16</td>\n      <td>16</td>\n    </tr>\n    <tr>\n      <td>34</td>\n      <td>16</td>\n      <td>15</td>\n    </tr>\n    <tr>\n      <td>35</td>\n      <td>8</td>\n      <td>8</td>\n    </tr>\n    <tr>\n      <td>36</td>\n      <td>8</td>\n      <td>9</td>\n    </tr>\n    <tr>\n      <td>37</td>\n      <td>10</td>\n      <td>8</td>\n    </tr>\n    <tr>\n      <td>38</td>\n      <td>15</td>\n      <td>14</td>\n    </tr>\n    <tr>\n      <td>39</td>\n      <td>11</td>\n      <td>11</td>\n    </tr>\n    <tr>\n      <td>40</td>\n      <td>9</td>\n      <td>9</td>\n    </tr>\n    <tr>\n      <td>41</td>\n      <td>11</td>\n      <td>12</td>\n    </tr>\n    <tr>\n      <td>42</td>\n      <td>14</td>\n      <td>15</td>\n    </tr>\n    <tr>\n      <td>43</td>\n      <td>5</td>\n      <td>4</td>\n    </tr>\n    <tr>\n      <td>44</td>\n      <td>11</td>\n      <td>10</td>\n    </tr>\n    <tr>\n      <td>45</td>\n      <td>15</td>\n      <td>13</td>\n    </tr>\n    <tr>\n      <td>46</td>\n      <td>0</td>\n      <td>6</td>\n    </tr>\n    <tr>\n      <td>47</td>\n      <td>0</td>\n      <td>-1</td>\n    </tr>\n    <tr>\n      <td>48</td>\n      <td>10</td>\n      <td>9</td>\n    </tr>\n    <tr>\n      <td>49</td>\n      <td>10</td>\n      <td>9</td>\n    </tr>\n    <tr>\n      <td>50</td>\n      <td>10</td>\n      <td>9</td>\n    </tr>\n    <tr>\n      <td>51</td>\n      <td>14</td>\n      <td>12</td>\n    </tr>\n    <tr>\n      <td>52</td>\n      <td>10</td>\n      <td>12</td>\n    </tr>\n    <tr>\n      <td>53</td>\n      <td>18</td>\n      <td>19</td>\n    </tr>\n    <tr>\n      <td>54</td>\n      <td>13</td>\n      <td>13</td>\n    </tr>\n    <tr>\n      <td>55</td>\n      <td>11</td>\n      <td>11</td>\n    </tr>\n    <tr>\n      <td>56</td>\n      <td>19</td>\n      <td>20</td>\n    </tr>\n    <tr>\n      <td>57</td>\n      <td>8</td>\n      <td>8</td>\n    </tr>\n    <tr>\n      <td>58</td>\n      <td>14</td>\n      <td>13</td>\n    </tr>\n    <tr>\n      <td>59</td>\n      <td>0</td>\n      <td>-1</td>\n    </tr>\n    <tr>\n      <td>60</td>\n      <td>7</td>\n      <td>6</td>\n    </tr>\n    <tr>\n      <td>61</td>\n      <td>13</td>\n      <td>14</td>\n    </tr>\n    <tr>\n      <td>62</td>\n      <td>8</td>\n      <td>8</td>\n    </tr>\n    <tr>\n      <td>63</td>\n      <td>8</td>\n      <td>7</td>\n    </tr>\n    <tr>\n      <td>64</td>\n      <td>9</td>\n      <td>10</td>\n    </tr>\n    <tr>\n      <td>65</td>\n      <td>11</td>\n      <td>11</td>\n    </tr>\n    <tr>\n      <td>66</td>\n      <td>14</td>\n      <td>11</td>\n    </tr>\n    <tr>\n      <td>67</td>\n      <td>14</td>\n      <td>15</td>\n    </tr>\n    <tr>\n      <td>68</td>\n      <td>15</td>\n      <td>16</td>\n    </tr>\n    <tr>\n      <td>69</td>\n      <td>14</td>\n      <td>13</td>\n    </tr>\n    <tr>\n      <td>70</td>\n      <td>5</td>\n      <td>4</td>\n    </tr>\n    <tr>\n      <td>71</td>\n      <td>14</td>\n      <td>11</td>\n    </tr>\n    <tr>\n      <td>72</td>\n      <td>14</td>\n      <td>15</td>\n    </tr>\n    <tr>\n      <td>73</td>\n      <td>10</td>\n      <td>8</td>\n    </tr>\n    <tr>\n      <td>74</td>\n      <td>7</td>\n      <td>7</td>\n    </tr>\n    <tr>\n      <td>75</td>\n      <td>8</td>\n      <td>8</td>\n    </tr>\n    <tr>\n      <td>76</td>\n      <td>12</td>\n      <td>12</td>\n    </tr>\n    <tr>\n      <td>77</td>\n      <td>11</td>\n      <td>10</td>\n    </tr>\n    <tr>\n      <td>78</td>\n      <td>10</td>\n      <td>11</td>\n    </tr>\n    <tr>\n      <td>79</td>\n      <td>9</td>\n      <td>9</td>\n    </tr>\n    <tr>\n      <td>80</td>\n      <td>10</td>\n      <td>8</td>\n    </tr>\n    <tr>\n      <td>81</td>\n      <td>13</td>\n      <td>13</td>\n    </tr>\n    <tr>\n      <td>82</td>\n      <td>14</td>\n      <td>14</td>\n    </tr>\n    <tr>\n      <td>83</td>\n      <td>10</td>\n      <td>10</td>\n    </tr>\n    <tr>\n      <td>84</td>\n      <td>14</td>\n      <td>12</td>\n    </tr>\n    <tr>\n      <td>85</td>\n      <td>10</td>\n      <td>10</td>\n    </tr>\n    <tr>\n      <td>86</td>\n      <td>8</td>\n      <td>5</td>\n    </tr>\n    <tr>\n      <td>87</td>\n      <td>10</td>\n      <td>10</td>\n    </tr>\n    <tr>\n      <td>88</td>\n      <td>6</td>\n      <td>7</td>\n    </tr>\n    <tr>\n      <td>89</td>\n      <td>8</td>\n      <td>8</td>\n    </tr>\n    <tr>\n      <td>90</td>\n      <td>10</td>\n      <td>8</td>\n    </tr>\n    <tr>\n      <td>91</td>\n      <td>16</td>\n      <td>16</td>\n    </tr>\n    <tr>\n      <td>92</td>\n      <td>8</td>\n      <td>7</td>\n    </tr>\n    <tr>\n      <td>93</td>\n      <td>9</td>\n      <td>8</td>\n    </tr>\n    <tr>\n      <td>94</td>\n      <td>12</td>\n      <td>12</td>\n    </tr>\n    <tr>\n      <td>95</td>\n      <td>0</td>\n      <td>-1</td>\n    </tr>\n    <tr>\n      <td>96</td>\n      <td>15</td>\n      <td>15</td>\n    </tr>\n    <tr>\n      <td>97</td>\n      <td>16</td>\n      <td>17</td>\n    </tr>\n    <tr>\n      <td>98</td>\n      <td>13</td>\n      <td>13</td>\n    </tr>\n    <tr>\n      <td>99</td>\n      <td>12</td>\n      <td>12</td>\n    </tr>\n    <tr>\n      <td>100</td>\n      <td>11</td>\n      <td>10</td>\n    </tr>\n    <tr>\n      <td>101</td>\n      <td>10</td>\n      <td>10</td>\n    </tr>\n    <tr>\n      <td>102</td>\n      <td>9</td>\n      <td>10</td>\n    </tr>\n    <tr>\n      <td>103</td>\n      <td>10</td>\n      <td>8</td>\n    </tr>\n    <tr>\n      <td>104</td>\n      <td>17</td>\n      <td>17</td>\n    </tr>\n    <tr>\n      <td>105</td>\n      <td>18</td>\n      <td>19</td>\n    </tr>\n    <tr>\n      <td>106</td>\n      <td>9</td>\n      <td>9</td>\n    </tr>\n    <tr>\n      <td>107</td>\n      <td>14</td>\n      <td>13</td>\n    </tr>\n    <tr>\n      <td>108</td>\n      <td>0</td>\n      <td>4</td>\n    </tr>\n    <tr>\n      <td>109</td>\n      <td>0</td>\n      <td>4</td>\n    </tr>\n    <tr>\n      <td>110</td>\n      <td>6</td>\n      <td>4</td>\n    </tr>\n    <tr>\n      <td>111</td>\n      <td>15</td>\n      <td>16</td>\n    </tr>\n    <tr>\n      <td>112</td>\n      <td>11</td>\n      <td>11</td>\n    </tr>\n    <tr>\n      <td>113</td>\n      <td>10</td>\n      <td>8</td>\n    </tr>\n    <tr>\n      <td>114</td>\n      <td>15</td>\n      <td>14</td>\n    </tr>\n    <tr>\n      <td>115</td>\n      <td>18</td>\n      <td>18</td>\n    </tr>\n    <tr>\n      <td>116</td>\n      <td>13</td>\n      <td>13</td>\n    </tr>\n    <tr>\n      <td>117</td>\n      <td>6</td>\n      <td>8</td>\n    </tr>\n    <tr>\n      <td>118</td>\n      <td>9</td>\n      <td>7</td>\n    </tr>\n    <tr>\n      <td>119</td>\n      <td>15</td>\n      <td>14</td>\n    </tr>\n    <tr>\n      <td>120</td>\n      <td>19</td>\n      <td>18</td>\n    </tr>\n    <tr>\n      <td>121</td>\n      <td>12</td>\n      <td>10</td>\n    </tr>\n    <tr>\n      <td>122</td>\n      <td>9</td>\n      <td>10</td>\n    </tr>\n    <tr>\n      <td>123</td>\n      <td>15</td>\n      <td>15</td>\n    </tr>\n    <tr>\n      <td>124</td>\n      <td>10</td>\n      <td>11</td>\n    </tr>\n    <tr>\n      <td>125</td>\n      <td>17</td>\n      <td>16</td>\n    </tr>\n    <tr>\n      <td>126</td>\n      <td>14</td>\n      <td>11</td>\n    </tr>\n    <tr>\n      <td>127</td>\n      <td>15</td>\n      <td>15</td>\n    </tr>\n    <tr>\n      <td>128</td>\n      <td>11</td>\n      <td>10</td>\n    </tr>\n    <tr>\n      <td>129</td>\n      <td>11</td>\n      <td>11</td>\n    </tr>\n    <tr>\n      <td>130</td>\n      <td>11</td>\n      <td>9</td>\n    </tr>\n    <tr>\n      <td>131</td>\n      <td>15</td>\n      <td>15</td>\n    </tr>\n    <tr>\n      <td>132</td>\n      <td>10</td>\n      <td>10</td>\n    </tr>\n    <tr>\n      <td>133</td>\n      <td>17</td>\n      <td>17</td>\n    </tr>\n    <tr>\n      <td>134</td>\n      <td>0</td>\n      <td>0</td>\n    </tr>\n  </tbody>\n</table>\n</div>"
     },
     "metadata": {},
     "execution_count": 86
    }
   ],
   "source": [
    "#Compare the actual output values with the predicted values\n",
    "df = pd.DataFrame({'Actual': y_test.to_numpy().flatten(), 'Predicted': y_pred.flatten()})\n",
    "df"
   ]
  },
  {
   "cell_type": "code",
   "execution_count": 87,
   "metadata": {},
   "outputs": [
    {
     "output_type": "stream",
     "name": "stdout",
     "text": "Mean Absolute Error: 0.9703703703703703\n"
    }
   ],
   "source": [
    "#How good our algorithm is?\n",
    "print('Mean Absolute Error:', metrics.mean_absolute_error(y_test, y_pred))  "
   ]
  },
  {
   "cell_type": "code",
   "execution_count": 88,
   "metadata": {},
   "outputs": [
    {
     "output_type": "stream",
     "name": "stdout",
     "text": "Mean Squared Error: 2.4518518518518517\n"
    }
   ],
   "source": [
    "print('Mean Squared Error:', metrics.mean_squared_error(y_test, y_pred))  "
   ]
  },
  {
   "cell_type": "code",
   "execution_count": 89,
   "metadata": {},
   "outputs": [
    {
     "output_type": "stream",
     "name": "stdout",
     "text": "Root Mean Squared Error: 1.5658390248846947\n"
    }
   ],
   "source": [
    "print('Root Mean Squared Error:', np.sqrt(metrics.mean_squared_error(y_test, y_pred)))"
   ]
  },
  {
   "cell_type": "code",
   "execution_count": 90,
   "metadata": {},
   "outputs": [
    {
     "output_type": "stream",
     "name": "stdout",
     "text": "0.3925925925925926\n"
    }
   ],
   "source": [
    "correct_predictions = total_counts = 0\n",
    "for index_label, row_series in df.iterrows():\n",
    "    # print(index_label)\n",
    "    # print(row_series['Actual']==row_series['Predicted'])\n",
    "    if(row_series['Actual']==row_series['Predicted']):\n",
    "        correct_predictions += 1\n",
    "    total_counts += 1\n",
    "\n",
    "print(correct_predictions/total_counts)"
   ]
  }
 ],
 "metadata": {
  "kernelspec": {
   "display_name": "Python 3",
   "language": "python",
   "name": "python3"
  },
  "language_info": {
   "codemirror_mode": {
    "name": "ipython",
    "version": 3
   },
   "file_extension": ".py",
   "mimetype": "text/x-python",
   "name": "python",
   "nbconvert_exporter": "python",
   "pygments_lexer": "ipython3",
   "version": "3.7.4-final"
  }
 },
 "nbformat": 4,
 "nbformat_minor": 2
}